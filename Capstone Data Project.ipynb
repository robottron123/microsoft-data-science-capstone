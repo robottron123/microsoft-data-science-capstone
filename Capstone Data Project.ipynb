{
 "cells": [
  {
   "cell_type": "code",
   "execution_count": 1,
   "metadata": {},
   "outputs": [
    {
     "ename": "ModuleNotFoundError",
     "evalue": "No module named 'plotly_express'",
     "output_type": "error",
     "traceback": [
      "\u001b[1;31m---------------------------------------------------------------------------\u001b[0m",
      "\u001b[1;31mModuleNotFoundError\u001b[0m                       Traceback (most recent call last)",
      "\u001b[1;32m<ipython-input-1-1a348826851b>\u001b[0m in \u001b[0;36m<module>\u001b[1;34m\u001b[0m\n\u001b[0;32m      5\u001b[0m \u001b[1;32mimport\u001b[0m \u001b[0mmatplotlib\u001b[0m\u001b[1;33m.\u001b[0m\u001b[0mpyplot\u001b[0m \u001b[1;32mas\u001b[0m \u001b[0mplt\u001b[0m\u001b[1;33m\u001b[0m\u001b[1;33m\u001b[0m\u001b[0m\n\u001b[0;32m      6\u001b[0m \u001b[0mget_ipython\u001b[0m\u001b[1;33m(\u001b[0m\u001b[1;33m)\u001b[0m\u001b[1;33m.\u001b[0m\u001b[0mrun_line_magic\u001b[0m\u001b[1;33m(\u001b[0m\u001b[1;34m'matplotlib'\u001b[0m\u001b[1;33m,\u001b[0m \u001b[1;34m'inline'\u001b[0m\u001b[1;33m)\u001b[0m\u001b[1;33m\u001b[0m\u001b[1;33m\u001b[0m\u001b[0m\n\u001b[1;32m----> 7\u001b[1;33m \u001b[1;32mimport\u001b[0m \u001b[0mplotly_express\u001b[0m \u001b[1;32mas\u001b[0m \u001b[0mpx\u001b[0m\u001b[1;33m\u001b[0m\u001b[1;33m\u001b[0m\u001b[0m\n\u001b[0m\u001b[0;32m      8\u001b[0m \u001b[1;32mimport\u001b[0m \u001b[0mpandas_profiling\u001b[0m\u001b[1;33m\u001b[0m\u001b[1;33m\u001b[0m\u001b[0m\n\u001b[0;32m      9\u001b[0m \u001b[1;33m\u001b[0m\u001b[0m\n",
      "\u001b[1;31mModuleNotFoundError\u001b[0m: No module named 'plotly_express'"
     ]
    }
   ],
   "source": [
    "import pandas as pd\n",
    "import numpy as np\n",
    "import os\n",
    "import seaborn as sns\n",
    "import matplotlib.pyplot as plt\n",
    "%matplotlib inline\n",
    "import plotly_express as px\n",
    "import pandas_profiling\n",
    "\n",
    "#lines below let allow multiple results from a line of code to be shown e.g. df.head() + df.columns\n",
    "from IPython.core.interactiveshell import InteractiveShell\n",
    "InteractiveShell.ast_node_interactivity = \"all\"\n",
    "\n",
    "#this allows us to see all of our columns or rows in jupyter notebook\n",
    "pd.set_option('display.max_columns', None)\n",
    "pd.set_option('display.max_rows', None)\n",
    "\n",
    "#filter future warnings\n",
    "import warnings\n",
    "warnings.simplefilter(action='ignore', category=FutureWarning)\n",
    "\n",
    "#set our code up so that it doesn't display scientific notation, we want full numbers\n",
    "pd.set_option('display.float_format', '{:.2f}'.format)"
   ]
  },
  {
   "cell_type": "code",
   "execution_count": 46,
   "metadata": {},
   "outputs": [
    {
     "data": {
      "text/html": [
       "<div>\n",
       "<style scoped>\n",
       "    .dataframe tbody tr th:only-of-type {\n",
       "        vertical-align: middle;\n",
       "    }\n",
       "\n",
       "    .dataframe tbody tr th {\n",
       "        vertical-align: top;\n",
       "    }\n",
       "\n",
       "    .dataframe thead th {\n",
       "        text-align: right;\n",
       "    }\n",
       "</style>\n",
       "<table border=\"1\" class=\"dataframe\">\n",
       "  <thead>\n",
       "    <tr style=\"text-align: right;\">\n",
       "      <th></th>\n",
       "      <th>active_bank_user</th>\n",
       "      <th>active_formal_nbfi_user</th>\n",
       "      <th>active_informal_nbfi_user</th>\n",
       "      <th>active_mm_user</th>\n",
       "      <th>advanced_phone_use</th>\n",
       "      <th>age</th>\n",
       "      <th>avg_shock_strength_last_year</th>\n",
       "      <th>bank_interest_rate</th>\n",
       "      <th>borrowed_for_daily_expenses_last_year</th>\n",
       "      <th>borrowed_for_emergency_last_year</th>\n",
       "      <th>borrowed_for_home_or_biz_last_year</th>\n",
       "      <th>borrowing_recency</th>\n",
       "      <th>can_add</th>\n",
       "      <th>can_calc_compounding</th>\n",
       "      <th>can_calc_percents</th>\n",
       "      <th>can_call</th>\n",
       "      <th>can_divide</th>\n",
       "      <th>can_make_transaction</th>\n",
       "      <th>can_text</th>\n",
       "      <th>can_use_internet</th>\n",
       "      <th>cash_property_savings</th>\n",
       "      <th>country</th>\n",
       "      <th>education_level</th>\n",
       "      <th>employed_last_year</th>\n",
       "      <th>employment_category_last_year</th>\n",
       "      <th>employment_type_last_year</th>\n",
       "      <th>female</th>\n",
       "      <th>financially_included</th>\n",
       "      <th>formal_savings</th>\n",
       "      <th>has_insurance</th>\n",
       "      <th>has_investment</th>\n",
       "      <th>income_ag_livestock_last_year</th>\n",
       "      <th>income_friends_family_last_year</th>\n",
       "      <th>income_government_last_year</th>\n",
       "      <th>income_own_business_last_year</th>\n",
       "      <th>income_private_sector_last_year</th>\n",
       "      <th>income_public_sector_last_year</th>\n",
       "      <th>informal_savings</th>\n",
       "      <th>is_urban</th>\n",
       "      <th>literacy</th>\n",
       "      <th>married</th>\n",
       "      <th>mfi_interest_rate</th>\n",
       "      <th>mm_interest_rate</th>\n",
       "      <th>nonreg_active_mm_user</th>\n",
       "      <th>num_financial_activities_last_year</th>\n",
       "      <th>num_formal_institutions_last_year</th>\n",
       "      <th>num_informal_institutions_last_year</th>\n",
       "      <th>num_shocks_last_year</th>\n",
       "      <th>num_times_borrowed_last_year</th>\n",
       "      <th>other_fsp_interest_rate</th>\n",
       "      <th>phone_ownership</th>\n",
       "      <th>phone_technology</th>\n",
       "      <th>reg_bank_acct</th>\n",
       "      <th>reg_formal_nbfi_account</th>\n",
       "      <th>reg_mm_acct</th>\n",
       "      <th>relationship_to_hh_head</th>\n",
       "      <th>religion</th>\n",
       "      <th>row_id</th>\n",
       "      <th>share_hh_income_provided</th>\n",
       "      <th>testflag</th>\n",
       "      <th>poverty_probability</th>\n",
       "    </tr>\n",
       "  </thead>\n",
       "  <tbody>\n",
       "    <tr>\n",
       "      <th>0</th>\n",
       "      <td>True</td>\n",
       "      <td>False</td>\n",
       "      <td>False</td>\n",
       "      <td>False</td>\n",
       "      <td>False</td>\n",
       "      <td>18.00</td>\n",
       "      <td>0.00</td>\n",
       "      <td>nan</td>\n",
       "      <td>False</td>\n",
       "      <td>False</td>\n",
       "      <td>False</td>\n",
       "      <td>0</td>\n",
       "      <td>True</td>\n",
       "      <td>True</td>\n",
       "      <td>True</td>\n",
       "      <td>True</td>\n",
       "      <td>True</td>\n",
       "      <td>False</td>\n",
       "      <td>True</td>\n",
       "      <td>False</td>\n",
       "      <td>False</td>\n",
       "      <td>C</td>\n",
       "      <td>1.00</td>\n",
       "      <td>False</td>\n",
       "      <td>housewife_or_student</td>\n",
       "      <td>not_working</td>\n",
       "      <td>True</td>\n",
       "      <td>True</td>\n",
       "      <td>False</td>\n",
       "      <td>False</td>\n",
       "      <td>False</td>\n",
       "      <td>False</td>\n",
       "      <td>False</td>\n",
       "      <td>False</td>\n",
       "      <td>False</td>\n",
       "      <td>False</td>\n",
       "      <td>False</td>\n",
       "      <td>False</td>\n",
       "      <td>False</td>\n",
       "      <td>True</td>\n",
       "      <td>True</td>\n",
       "      <td>nan</td>\n",
       "      <td>nan</td>\n",
       "      <td>False</td>\n",
       "      <td>1</td>\n",
       "      <td>1</td>\n",
       "      <td>0</td>\n",
       "      <td>0</td>\n",
       "      <td>0</td>\n",
       "      <td>nan</td>\n",
       "      <td>1</td>\n",
       "      <td>0</td>\n",
       "      <td>True</td>\n",
       "      <td>False</td>\n",
       "      <td>False</td>\n",
       "      <td>Other</td>\n",
       "      <td>P</td>\n",
       "      <td>0</td>\n",
       "      <td>1.00</td>\n",
       "      <td>nan</td>\n",
       "      <td>0.52</td>\n",
       "    </tr>\n",
       "    <tr>\n",
       "      <th>1</th>\n",
       "      <td>True</td>\n",
       "      <td>False</td>\n",
       "      <td>False</td>\n",
       "      <td>False</td>\n",
       "      <td>False</td>\n",
       "      <td>30.00</td>\n",
       "      <td>0.00</td>\n",
       "      <td>nan</td>\n",
       "      <td>False</td>\n",
       "      <td>False</td>\n",
       "      <td>False</td>\n",
       "      <td>0</td>\n",
       "      <td>True</td>\n",
       "      <td>False</td>\n",
       "      <td>False</td>\n",
       "      <td>True</td>\n",
       "      <td>True</td>\n",
       "      <td>False</td>\n",
       "      <td>False</td>\n",
       "      <td>False</td>\n",
       "      <td>False</td>\n",
       "      <td>C</td>\n",
       "      <td>1.00</td>\n",
       "      <td>False</td>\n",
       "      <td>housewife_or_student</td>\n",
       "      <td>not_working</td>\n",
       "      <td>True</td>\n",
       "      <td>True</td>\n",
       "      <td>False</td>\n",
       "      <td>False</td>\n",
       "      <td>False</td>\n",
       "      <td>False</td>\n",
       "      <td>False</td>\n",
       "      <td>False</td>\n",
       "      <td>False</td>\n",
       "      <td>False</td>\n",
       "      <td>False</td>\n",
       "      <td>False</td>\n",
       "      <td>True</td>\n",
       "      <td>True</td>\n",
       "      <td>True</td>\n",
       "      <td>nan</td>\n",
       "      <td>nan</td>\n",
       "      <td>False</td>\n",
       "      <td>0</td>\n",
       "      <td>1</td>\n",
       "      <td>0</td>\n",
       "      <td>0</td>\n",
       "      <td>0</td>\n",
       "      <td>nan</td>\n",
       "      <td>2</td>\n",
       "      <td>1</td>\n",
       "      <td>True</td>\n",
       "      <td>False</td>\n",
       "      <td>False</td>\n",
       "      <td>Other</td>\n",
       "      <td>P</td>\n",
       "      <td>1</td>\n",
       "      <td>nan</td>\n",
       "      <td>nan</td>\n",
       "      <td>0.98</td>\n",
       "    </tr>\n",
       "    <tr>\n",
       "      <th>2</th>\n",
       "      <td>False</td>\n",
       "      <td>False</td>\n",
       "      <td>False</td>\n",
       "      <td>False</td>\n",
       "      <td>False</td>\n",
       "      <td>20.00</td>\n",
       "      <td>0.00</td>\n",
       "      <td>nan</td>\n",
       "      <td>False</td>\n",
       "      <td>False</td>\n",
       "      <td>False</td>\n",
       "      <td>2</td>\n",
       "      <td>True</td>\n",
       "      <td>False</td>\n",
       "      <td>True</td>\n",
       "      <td>True</td>\n",
       "      <td>True</td>\n",
       "      <td>False</td>\n",
       "      <td>False</td>\n",
       "      <td>False</td>\n",
       "      <td>False</td>\n",
       "      <td>A</td>\n",
       "      <td>1.00</td>\n",
       "      <td>True</td>\n",
       "      <td>employed</td>\n",
       "      <td>irregular_seasonal</td>\n",
       "      <td>True</td>\n",
       "      <td>False</td>\n",
       "      <td>False</td>\n",
       "      <td>False</td>\n",
       "      <td>False</td>\n",
       "      <td>False</td>\n",
       "      <td>False</td>\n",
       "      <td>False</td>\n",
       "      <td>False</td>\n",
       "      <td>False</td>\n",
       "      <td>False</td>\n",
       "      <td>False</td>\n",
       "      <td>False</td>\n",
       "      <td>True</td>\n",
       "      <td>True</td>\n",
       "      <td>nan</td>\n",
       "      <td>nan</td>\n",
       "      <td>False</td>\n",
       "      <td>0</td>\n",
       "      <td>0</td>\n",
       "      <td>0</td>\n",
       "      <td>0</td>\n",
       "      <td>1</td>\n",
       "      <td>nan</td>\n",
       "      <td>2</td>\n",
       "      <td>1</td>\n",
       "      <td>False</td>\n",
       "      <td>False</td>\n",
       "      <td>False</td>\n",
       "      <td>Spouse</td>\n",
       "      <td>Q</td>\n",
       "      <td>2</td>\n",
       "      <td>1.00</td>\n",
       "      <td>nan</td>\n",
       "      <td>0.98</td>\n",
       "    </tr>\n",
       "    <tr>\n",
       "      <th>3</th>\n",
       "      <td>False</td>\n",
       "      <td>False</td>\n",
       "      <td>False</td>\n",
       "      <td>False</td>\n",
       "      <td>False</td>\n",
       "      <td>61.00</td>\n",
       "      <td>0.00</td>\n",
       "      <td>nan</td>\n",
       "      <td>False</td>\n",
       "      <td>False</td>\n",
       "      <td>False</td>\n",
       "      <td>0</td>\n",
       "      <td>True</td>\n",
       "      <td>True</td>\n",
       "      <td>False</td>\n",
       "      <td>True</td>\n",
       "      <td>True</td>\n",
       "      <td>False</td>\n",
       "      <td>False</td>\n",
       "      <td>False</td>\n",
       "      <td>False</td>\n",
       "      <td>A</td>\n",
       "      <td>0.00</td>\n",
       "      <td>True</td>\n",
       "      <td>employed</td>\n",
       "      <td>self_employed</td>\n",
       "      <td>False</td>\n",
       "      <td>False</td>\n",
       "      <td>False</td>\n",
       "      <td>False</td>\n",
       "      <td>False</td>\n",
       "      <td>False</td>\n",
       "      <td>False</td>\n",
       "      <td>False</td>\n",
       "      <td>False</td>\n",
       "      <td>False</td>\n",
       "      <td>False</td>\n",
       "      <td>False</td>\n",
       "      <td>False</td>\n",
       "      <td>False</td>\n",
       "      <td>True</td>\n",
       "      <td>nan</td>\n",
       "      <td>nan</td>\n",
       "      <td>False</td>\n",
       "      <td>0</td>\n",
       "      <td>0</td>\n",
       "      <td>0</td>\n",
       "      <td>0</td>\n",
       "      <td>0</td>\n",
       "      <td>nan</td>\n",
       "      <td>0</td>\n",
       "      <td>0</td>\n",
       "      <td>False</td>\n",
       "      <td>False</td>\n",
       "      <td>False</td>\n",
       "      <td>Head</td>\n",
       "      <td>Q</td>\n",
       "      <td>3</td>\n",
       "      <td>nan</td>\n",
       "      <td>nan</td>\n",
       "      <td>0.88</td>\n",
       "    </tr>\n",
       "    <tr>\n",
       "      <th>4</th>\n",
       "      <td>False</td>\n",
       "      <td>False</td>\n",
       "      <td>False</td>\n",
       "      <td>False</td>\n",
       "      <td>False</td>\n",
       "      <td>26.00</td>\n",
       "      <td>0.00</td>\n",
       "      <td>nan</td>\n",
       "      <td>False</td>\n",
       "      <td>False</td>\n",
       "      <td>False</td>\n",
       "      <td>0</td>\n",
       "      <td>False</td>\n",
       "      <td>False</td>\n",
       "      <td>False</td>\n",
       "      <td>True</td>\n",
       "      <td>True</td>\n",
       "      <td>True</td>\n",
       "      <td>True</td>\n",
       "      <td>False</td>\n",
       "      <td>True</td>\n",
       "      <td>D</td>\n",
       "      <td>1.00</td>\n",
       "      <td>False</td>\n",
       "      <td>housewife_or_student</td>\n",
       "      <td>not_working</td>\n",
       "      <td>True</td>\n",
       "      <td>False</td>\n",
       "      <td>False</td>\n",
       "      <td>False</td>\n",
       "      <td>False</td>\n",
       "      <td>False</td>\n",
       "      <td>True</td>\n",
       "      <td>False</td>\n",
       "      <td>False</td>\n",
       "      <td>False</td>\n",
       "      <td>False</td>\n",
       "      <td>False</td>\n",
       "      <td>False</td>\n",
       "      <td>True</td>\n",
       "      <td>True</td>\n",
       "      <td>nan</td>\n",
       "      <td>nan</td>\n",
       "      <td>False</td>\n",
       "      <td>3</td>\n",
       "      <td>1</td>\n",
       "      <td>0</td>\n",
       "      <td>0</td>\n",
       "      <td>0</td>\n",
       "      <td>nan</td>\n",
       "      <td>1</td>\n",
       "      <td>0</td>\n",
       "      <td>False</td>\n",
       "      <td>False</td>\n",
       "      <td>False</td>\n",
       "      <td>Spouse</td>\n",
       "      <td>X</td>\n",
       "      <td>4</td>\n",
       "      <td>2.00</td>\n",
       "      <td>nan</td>\n",
       "      <td>0.80</td>\n",
       "    </tr>\n",
       "  </tbody>\n",
       "</table>\n",
       "</div>"
      ],
      "text/plain": [
       "   active_bank_user  active_formal_nbfi_user  active_informal_nbfi_user  \\\n",
       "0              True                    False                      False   \n",
       "1              True                    False                      False   \n",
       "2             False                    False                      False   \n",
       "3             False                    False                      False   \n",
       "4             False                    False                      False   \n",
       "\n",
       "   active_mm_user  advanced_phone_use   age  avg_shock_strength_last_year  \\\n",
       "0           False               False 18.00                          0.00   \n",
       "1           False               False 30.00                          0.00   \n",
       "2           False               False 20.00                          0.00   \n",
       "3           False               False 61.00                          0.00   \n",
       "4           False               False 26.00                          0.00   \n",
       "\n",
       "   bank_interest_rate  borrowed_for_daily_expenses_last_year  \\\n",
       "0                 nan                                  False   \n",
       "1                 nan                                  False   \n",
       "2                 nan                                  False   \n",
       "3                 nan                                  False   \n",
       "4                 nan                                  False   \n",
       "\n",
       "   borrowed_for_emergency_last_year  borrowed_for_home_or_biz_last_year  \\\n",
       "0                             False                               False   \n",
       "1                             False                               False   \n",
       "2                             False                               False   \n",
       "3                             False                               False   \n",
       "4                             False                               False   \n",
       "\n",
       "   borrowing_recency  can_add  can_calc_compounding  can_calc_percents  \\\n",
       "0                  0     True                  True               True   \n",
       "1                  0     True                 False              False   \n",
       "2                  2     True                 False               True   \n",
       "3                  0     True                  True              False   \n",
       "4                  0    False                 False              False   \n",
       "\n",
       "   can_call  can_divide  can_make_transaction  can_text  can_use_internet  \\\n",
       "0      True        True                 False      True             False   \n",
       "1      True        True                 False     False             False   \n",
       "2      True        True                 False     False             False   \n",
       "3      True        True                 False     False             False   \n",
       "4      True        True                  True      True             False   \n",
       "\n",
       "   cash_property_savings country  education_level  employed_last_year  \\\n",
       "0                  False       C             1.00               False   \n",
       "1                  False       C             1.00               False   \n",
       "2                  False       A             1.00                True   \n",
       "3                  False       A             0.00                True   \n",
       "4                   True       D             1.00               False   \n",
       "\n",
       "  employment_category_last_year employment_type_last_year  female  \\\n",
       "0          housewife_or_student               not_working    True   \n",
       "1          housewife_or_student               not_working    True   \n",
       "2                      employed        irregular_seasonal    True   \n",
       "3                      employed             self_employed   False   \n",
       "4          housewife_or_student               not_working    True   \n",
       "\n",
       "   financially_included  formal_savings  has_insurance  has_investment  \\\n",
       "0                  True           False          False           False   \n",
       "1                  True           False          False           False   \n",
       "2                 False           False          False           False   \n",
       "3                 False           False          False           False   \n",
       "4                 False           False          False           False   \n",
       "\n",
       "   income_ag_livestock_last_year  income_friends_family_last_year  \\\n",
       "0                          False                            False   \n",
       "1                          False                            False   \n",
       "2                          False                            False   \n",
       "3                          False                            False   \n",
       "4                          False                             True   \n",
       "\n",
       "   income_government_last_year  income_own_business_last_year  \\\n",
       "0                        False                          False   \n",
       "1                        False                          False   \n",
       "2                        False                          False   \n",
       "3                        False                          False   \n",
       "4                        False                          False   \n",
       "\n",
       "   income_private_sector_last_year  income_public_sector_last_year  \\\n",
       "0                            False                           False   \n",
       "1                            False                           False   \n",
       "2                            False                           False   \n",
       "3                            False                           False   \n",
       "4                            False                           False   \n",
       "\n",
       "   informal_savings  is_urban  literacy  married  mfi_interest_rate  \\\n",
       "0             False     False      True     True                nan   \n",
       "1             False      True      True     True                nan   \n",
       "2             False     False      True     True                nan   \n",
       "3             False     False     False     True                nan   \n",
       "4             False     False      True     True                nan   \n",
       "\n",
       "   mm_interest_rate  nonreg_active_mm_user  \\\n",
       "0               nan                  False   \n",
       "1               nan                  False   \n",
       "2               nan                  False   \n",
       "3               nan                  False   \n",
       "4               nan                  False   \n",
       "\n",
       "   num_financial_activities_last_year  num_formal_institutions_last_year  \\\n",
       "0                                   1                                  1   \n",
       "1                                   0                                  1   \n",
       "2                                   0                                  0   \n",
       "3                                   0                                  0   \n",
       "4                                   3                                  1   \n",
       "\n",
       "   num_informal_institutions_last_year  num_shocks_last_year  \\\n",
       "0                                    0                     0   \n",
       "1                                    0                     0   \n",
       "2                                    0                     0   \n",
       "3                                    0                     0   \n",
       "4                                    0                     0   \n",
       "\n",
       "   num_times_borrowed_last_year  other_fsp_interest_rate  phone_ownership  \\\n",
       "0                             0                      nan                1   \n",
       "1                             0                      nan                2   \n",
       "2                             1                      nan                2   \n",
       "3                             0                      nan                0   \n",
       "4                             0                      nan                1   \n",
       "\n",
       "   phone_technology  reg_bank_acct  reg_formal_nbfi_account  reg_mm_acct  \\\n",
       "0                 0           True                    False        False   \n",
       "1                 1           True                    False        False   \n",
       "2                 1          False                    False        False   \n",
       "3                 0          False                    False        False   \n",
       "4                 0          False                    False        False   \n",
       "\n",
       "  relationship_to_hh_head religion  row_id  share_hh_income_provided  \\\n",
       "0                   Other        P       0                      1.00   \n",
       "1                   Other        P       1                       nan   \n",
       "2                  Spouse        Q       2                      1.00   \n",
       "3                    Head        Q       3                       nan   \n",
       "4                  Spouse        X       4                      2.00   \n",
       "\n",
       "   testflag  poverty_probability  \n",
       "0       nan                 0.52  \n",
       "1       nan                 0.98  \n",
       "2       nan                 0.98  \n",
       "3       nan                 0.88  \n",
       "4       nan                 0.80  "
      ]
     },
     "execution_count": 46,
     "metadata": {},
     "output_type": "execute_result"
    }
   ],
   "source": [
    "#load our data in\n",
    "train = pd.read_csv('train.csv')\n",
    "\n",
    "#drop outliers in the train set at the start (refer to the outlier detection section of this notebook for why this code is executed here)\n",
    "train.drop(train.index[[8236, 4377]], inplace = True)\n",
    "\n",
    "labels = pd.read_csv('labels.csv')\n",
    "test = pd.read_csv('test.csv')\n",
    "data = pd.merge(train, labels)\n",
    "#create distinguising flags for test and train set\n",
    "test['testflag'] = 1\n",
    "#concatenate train and test data\n",
    "data = pd.concat([data, test])\n",
    "\n",
    "#move our labels to the end of the new dataset\n",
    "data = data[[col for col in data.columns if col != 'poverty_probability' ] + ['poverty_probability']]\n",
    "\n",
    "#check out the head of the data\n",
    "data.head()"
   ]
  },
  {
   "cell_type": "code",
   "execution_count": 47,
   "metadata": {},
   "outputs": [],
   "source": [
    "# Printing the percentage of missing values per column\n",
    "def percent_missing(dataframe):\n",
    "    '''\n",
    "    Prints the percentage of missing values for each column in a dataframe\n",
    "    '''\n",
    "    # Summing the number of missing values per column and then dividing by the total\n",
    "    sumMissing = dataframe.isnull().values.sum(axis=0)\n",
    "    pctMissing = sumMissing / dataframe.shape[0]\n",
    "    \n",
    "    if sumMissing.sum() == 0:\n",
    "        print('No missing values')\n",
    "    else:\n",
    "        # Looping through and printing out each columns missing value percentage\n",
    "        print('Percent Missing Values:', '\\n')\n",
    "        for idx, col in enumerate(dataframe.columns):\n",
    "            if sumMissing[idx] > 0:\n",
    "                print('{0}: {1:.2f}%'.format(col, pctMissing[idx] * 100))"
   ]
  },
  {
   "cell_type": "markdown",
   "metadata": {},
   "source": [
    "__Using Pandas Profiling to create descriptive report__"
   ]
  },
  {
   "cell_type": "code",
   "execution_count": 48,
   "metadata": {},
   "outputs": [
    {
     "ename": "AttributeError",
     "evalue": "'DataFrame' object has no attribute 'profile_report'",
     "output_type": "error",
     "traceback": [
      "\u001b[1;31m---------------------------------------------------------------------------\u001b[0m",
      "\u001b[1;31mAttributeError\u001b[0m                            Traceback (most recent call last)",
      "\u001b[1;32m<ipython-input-48-92cb23a2512a>\u001b[0m in \u001b[0;36m<module>\u001b[1;34m\u001b[0m\n\u001b[1;32m----> 1\u001b[1;33m \u001b[0mprofile\u001b[0m \u001b[1;33m=\u001b[0m \u001b[0mdata\u001b[0m\u001b[1;33m.\u001b[0m\u001b[0mprofile_report\u001b[0m\u001b[1;33m(\u001b[0m\u001b[1;33m)\u001b[0m\u001b[1;33m\u001b[0m\u001b[1;33m\u001b[0m\u001b[0m\n\u001b[0m\u001b[0;32m      2\u001b[0m \u001b[0mprofile\u001b[0m\u001b[1;33m.\u001b[0m\u001b[0mget_rejected_variables\u001b[0m\u001b[1;33m(\u001b[0m\u001b[0mthreshold\u001b[0m\u001b[1;33m=\u001b[0m\u001b[1;36m0.9\u001b[0m\u001b[1;33m)\u001b[0m  \u001b[1;31m# Rejected variables w/ high correlation\u001b[0m\u001b[1;33m\u001b[0m\u001b[1;33m\u001b[0m\u001b[0m\n\u001b[0;32m      3\u001b[0m \u001b[0mprofile\u001b[0m\u001b[1;33m\u001b[0m\u001b[1;33m\u001b[0m\u001b[0m\n",
      "\u001b[1;32mC:\\software\\Anaconda\\ide\\lib\\site-packages\\pandas\\core\\generic.py\u001b[0m in \u001b[0;36m__getattr__\u001b[1;34m(self, name)\u001b[0m\n\u001b[0;32m   5065\u001b[0m             \u001b[1;32mif\u001b[0m \u001b[0mself\u001b[0m\u001b[1;33m.\u001b[0m\u001b[0m_info_axis\u001b[0m\u001b[1;33m.\u001b[0m\u001b[0m_can_hold_identifiers_and_holds_name\u001b[0m\u001b[1;33m(\u001b[0m\u001b[0mname\u001b[0m\u001b[1;33m)\u001b[0m\u001b[1;33m:\u001b[0m\u001b[1;33m\u001b[0m\u001b[1;33m\u001b[0m\u001b[0m\n\u001b[0;32m   5066\u001b[0m                 \u001b[1;32mreturn\u001b[0m \u001b[0mself\u001b[0m\u001b[1;33m[\u001b[0m\u001b[0mname\u001b[0m\u001b[1;33m]\u001b[0m\u001b[1;33m\u001b[0m\u001b[1;33m\u001b[0m\u001b[0m\n\u001b[1;32m-> 5067\u001b[1;33m             \u001b[1;32mreturn\u001b[0m \u001b[0mobject\u001b[0m\u001b[1;33m.\u001b[0m\u001b[0m__getattribute__\u001b[0m\u001b[1;33m(\u001b[0m\u001b[0mself\u001b[0m\u001b[1;33m,\u001b[0m \u001b[0mname\u001b[0m\u001b[1;33m)\u001b[0m\u001b[1;33m\u001b[0m\u001b[1;33m\u001b[0m\u001b[0m\n\u001b[0m\u001b[0;32m   5068\u001b[0m \u001b[1;33m\u001b[0m\u001b[0m\n\u001b[0;32m   5069\u001b[0m     \u001b[1;32mdef\u001b[0m \u001b[0m__setattr__\u001b[0m\u001b[1;33m(\u001b[0m\u001b[0mself\u001b[0m\u001b[1;33m,\u001b[0m \u001b[0mname\u001b[0m\u001b[1;33m,\u001b[0m \u001b[0mvalue\u001b[0m\u001b[1;33m)\u001b[0m\u001b[1;33m:\u001b[0m\u001b[1;33m\u001b[0m\u001b[1;33m\u001b[0m\u001b[0m\n",
      "\u001b[1;31mAttributeError\u001b[0m: 'DataFrame' object has no attribute 'profile_report'"
     ]
    }
   ],
   "source": [
    "profile = data.profile_report()\n",
    "profile.get_rejected_variables(threshold=0.9)  # Rejected variables w/ high correlation\n",
    "profile"
   ]
  },
  {
   "cell_type": "markdown",
   "metadata": {},
   "source": [
    "# Let's fill in the missing values \n",
    "- we are going to try both removing and imputing 0s for bank_interest_rate becuase it is missing almost all of its values\n",
    "- we are going to try and fill in education_level with a median encoded value\n",
    "- we are going to try both dropping and imputing 0s for mfi_interest_rate becuase it is missing almost all of its values\n",
    "- we are going to try dropping and imputing 0s for mm_interest_rate because it is missing almost all of its values\n",
    "- we are going to try dropping and imputing 0s for other_fsp_interest_rate becuase it is missing almost all of its values\n",
    "- we are going to impute for the missing values in share_hh_income_provided"
   ]
  },
  {
   "cell_type": "code",
   "execution_count": 49,
   "metadata": {},
   "outputs": [],
   "source": [
    "#----------tried dropping them and imputing, don't see much of a difference\n",
    "# unlucky_columns = ['bank_interest_rate', 'mfi_interest_rate', 'mm_interest_rate', 'other_fsp_interest_rate']\n",
    "# data.drop(unlucky_columns, axis=1, inplace=True)\n",
    "data['bank_interest_rate'].fillna(0, inplace = True)\n",
    "data['mfi_interest_rate'].fillna(0, inplace = True)\n",
    "data['mm_interest_rate'].fillna(0, inplace = True)\n",
    "data['other_fsp_interest_rate'].fillna(0, inplace = True)"
   ]
  },
  {
   "cell_type": "code",
   "execution_count": 50,
   "metadata": {},
   "outputs": [
    {
     "name": "stdout",
     "output_type": "stream",
     "text": [
      "Percent Missing Values: \n",
      "\n",
      "education_level: 1.83%\n",
      "share_hh_income_provided: 2.37%\n",
      "testflag: 60.00%\n",
      "poverty_probability: 40.00%\n"
     ]
    }
   ],
   "source": [
    "percent_missing(data)"
   ]
  },
  {
   "cell_type": "markdown",
   "metadata": {},
   "source": [
    "__Now lets explore education_level__\n",
    "- education_level - Highest level of education (0=no education, 1=primary education, 2=secondary education, 3=higher education)"
   ]
  },
  {
   "cell_type": "markdown",
   "metadata": {},
   "source": [
    "Education level is correlated pretty well with literacy (.59), so I am going to try to fill in these cases based on literacy"
   ]
  },
  {
   "cell_type": "code",
   "execution_count": 51,
   "metadata": {},
   "outputs": [],
   "source": [
    "data['education_level'] = data.groupby('literacy').education_level.transform(lambda x: x.replace(np.nan, x.median()))"
   ]
  },
  {
   "cell_type": "code",
   "execution_count": 52,
   "metadata": {},
   "outputs": [
    {
     "data": {
      "text/plain": [
       "literacy\n",
       "False   0.65\n",
       "True    1.74\n",
       "Name: education_level, dtype: float64"
      ]
     },
     "execution_count": 52,
     "metadata": {},
     "output_type": "execute_result"
    }
   ],
   "source": [
    "data.groupby('literacy').education_level.mean()"
   ]
  },
  {
   "cell_type": "markdown",
   "metadata": {},
   "source": [
    "I think that this is ok, but should check to see if we need to make these values whole numbers or not?"
   ]
  },
  {
   "cell_type": "code",
   "execution_count": 53,
   "metadata": {},
   "outputs": [
    {
     "data": {
      "text/plain": [
       "array([1., 0., 2., 3.])"
      ]
     },
     "execution_count": 53,
     "metadata": {},
     "output_type": "execute_result"
    }
   ],
   "source": [
    "data['education_level'].unique()"
   ]
  },
  {
   "cell_type": "code",
   "execution_count": 54,
   "metadata": {},
   "outputs": [
    {
     "name": "stdout",
     "output_type": "stream",
     "text": [
      "Percent Missing Values: \n",
      "\n",
      "share_hh_income_provided: 2.37%\n",
      "testflag: 60.00%\n",
      "poverty_probability: 40.00%\n"
     ]
    }
   ],
   "source": [
    "percent_missing(data)"
   ]
  },
  {
   "cell_type": "markdown",
   "metadata": {},
   "source": [
    "__Now I want to look at share_hh_income_provided__\n",
    "-  Share of household income provided"
   ]
  },
  {
   "cell_type": "code",
   "execution_count": 55,
   "metadata": {},
   "outputs": [
    {
     "data": {
      "text/plain": [
       "array([ 1., nan,  2.,  5.,  3.,  4.])"
      ]
     },
     "execution_count": 55,
     "metadata": {},
     "output_type": "execute_result"
    }
   ],
   "source": [
    "data['share_hh_income_provided'].unique()"
   ]
  },
  {
   "cell_type": "markdown",
   "metadata": {},
   "source": [
    "This feature is correlated (.46) with employed_last_year, so lets impute based on the mean of that"
   ]
  },
  {
   "cell_type": "code",
   "execution_count": 56,
   "metadata": {},
   "outputs": [],
   "source": [
    "data['share_hh_income_provided'] = data.groupby('employed_last_year').share_hh_income_provided.transform(lambda x: x.replace(np.nan, x.median()))"
   ]
  },
  {
   "cell_type": "code",
   "execution_count": 57,
   "metadata": {},
   "outputs": [
    {
     "name": "stdout",
     "output_type": "stream",
     "text": [
      "Percent Missing Values: \n",
      "\n",
      "testflag: 60.00%\n",
      "poverty_probability: 40.00%\n"
     ]
    }
   ],
   "source": [
    "percent_missing(data)"
   ]
  },
  {
   "cell_type": "markdown",
   "metadata": {},
   "source": [
    "# Data Visulization"
   ]
  },
  {
   "cell_type": "markdown",
   "metadata": {},
   "source": [
    "Looks like rural areas in this sample are higher in poverty rates"
   ]
  },
  {
   "cell_type": "code",
   "execution_count": 58,
   "metadata": {},
   "outputs": [
    {
     "data": {
      "text/plain": [
       "<Figure size 720x360 with 0 Axes>"
      ]
     },
     "execution_count": 58,
     "metadata": {},
     "output_type": "execute_result"
    },
    {
     "data": {
      "text/plain": [
       "<matplotlib.axes._subplots.AxesSubplot at 0x23bbcc62588>"
      ]
     },
     "execution_count": 58,
     "metadata": {},
     "output_type": "execute_result"
    },
    {
     "data": {
      "image/png": "[encoded data removed]",
      "text/plain": [
       "<Figure size 720x360 with 1 Axes>"
      ]
     },
     "metadata": {
      "needs_background": "light"
     },
     "output_type": "display_data"
    }
   ],
   "source": [
    "plt.figure(figsize = (10, 5))\n",
    "sns.barplot(data=data, x = 'is_urban', y = 'poverty_probability')"
   ]
  },
  {
   "cell_type": "markdown",
   "metadata": {},
   "source": [
    "__Plot poverty_probability by country and gender__"
   ]
  },
  {
   "cell_type": "code",
   "execution_count": 59,
   "metadata": {},
   "outputs": [
    {
     "data": {
      "text/plain": [
       "country\n",
       "A   0.75\n",
       "C   0.61\n",
       "D   0.78\n",
       "F   0.51\n",
       "G   0.55\n",
       "I   0.53\n",
       "J   0.55\n",
       "Name: poverty_probability, dtype: float64"
      ]
     },
     "execution_count": 59,
     "metadata": {},
     "output_type": "execute_result"
    },
    {
     "data": {
      "text/plain": [
       "<Figure size 1440x720 with 0 Axes>"
      ]
     },
     "execution_count": 59,
     "metadata": {},
     "output_type": "execute_result"
    },
    {
     "data": {
      "text/plain": [
       "<matplotlib.axes._subplots.AxesSubplot at 0x23bbe1cb0b8>"
      ]
     },
     "execution_count": 59,
     "metadata": {},
     "output_type": "execute_result"
    },
    {
     "data": {
      "image/png": "[encoded data removed]",
      "text/plain": [
       "<Figure size 1440x720 with 1 Axes>"
      ]
     },
     "metadata": {
      "needs_background": "light"
     },
     "output_type": "display_data"
    }
   ],
   "source": [
    "data.groupby('country').poverty_probability.mean()\n",
    "#plot countries in sorted order\n",
    "plt.figure(figsize=(20, 10))\n",
    "sns.barplot(data = data.sort_values(by = ['country']), x = 'country', y = 'poverty_probability', hue = 'female')"
   ]
  },
  {
   "cell_type": "markdown",
   "metadata": {},
   "source": [
    "__No strong relationship between age and poverty__"
   ]
  },
  {
   "cell_type": "code",
   "execution_count": 60,
   "metadata": {},
   "outputs": [
    {
     "data": {
      "text/plain": [
       "<Figure size 2160x1440 with 0 Axes>"
      ]
     },
     "execution_count": 60,
     "metadata": {},
     "output_type": "execute_result"
    },
    {
     "data": {
      "text/plain": [
       "<matplotlib.axes._subplots.AxesSubplot at 0x23bbe3bbeb8>"
      ]
     },
     "execution_count": 60,
     "metadata": {},
     "output_type": "execute_result"
    },
    {
     "data": {
      "image/png": "[encoded data removed]",
      "text/plain": [
       "<Figure size 2160x1440 with 1 Axes>"
      ]
     },
     "metadata": {
      "needs_background": "light"
     },
     "output_type": "display_data"
    }
   ],
   "source": [
    "plt.figure(figsize=(30, 20))\n",
    "sns.scatterplot(data = data, x = 'poverty_probability', y = 'age')"
   ]
  },
  {
   "cell_type": "markdown",
   "metadata": {},
   "source": [
    "__Comparing men and women in poverty by education level__"
   ]
  },
  {
   "cell_type": "code",
   "execution_count": 61,
   "metadata": {},
   "outputs": [
    {
     "data": {
      "text/plain": [
       "female  education_level\n",
       "False   0.00              0.71\n",
       "        1.00              0.68\n",
       "        2.00              0.53\n",
       "        3.00              0.40\n",
       "True    0.00              0.71\n",
       "        1.00              0.70\n",
       "        2.00              0.52\n",
       "        3.00              0.38\n",
       "Name: poverty_probability, dtype: float64"
      ]
     },
     "execution_count": 61,
     "metadata": {},
     "output_type": "execute_result"
    },
    {
     "data": {
      "text/plain": [
       "<Figure size 1440x720 with 0 Axes>"
      ]
     },
     "execution_count": 61,
     "metadata": {},
     "output_type": "execute_result"
    },
    {
     "data": {
      "text/plain": [
       "<matplotlib.axes._subplots.AxesSubplot at 0x23bbe43bda0>"
      ]
     },
     "execution_count": 61,
     "metadata": {},
     "output_type": "execute_result"
    },
    {
     "data": {
      "image/png": "[encoded data removed]",
      "text/plain": [
       "<Figure size 1440x720 with 1 Axes>"
      ]
     },
     "metadata": {
      "needs_background": "light"
     },
     "output_type": "display_data"
    }
   ],
   "source": [
    "data.groupby(['female', 'education_level']).poverty_probability.mean()\n",
    "plt.figure(figsize=(20, 10))\n",
    "sns.barplot(data = data, x = 'education_level', y = 'poverty_probability', hue = 'female')"
   ]
  },
  {
   "cell_type": "code",
   "execution_count": 62,
   "metadata": {},
   "outputs": [],
   "source": [
    "poverty_data = data[data['poverty_probability'] > .5]"
   ]
  },
  {
   "cell_type": "code",
   "execution_count": 63,
   "metadata": {},
   "outputs": [
    {
     "data": {
      "text/plain": [
       "country\n",
       "A   0.80\n",
       "C   0.82\n",
       "D   0.84\n",
       "F   0.81\n",
       "G   0.71\n",
       "I   0.77\n",
       "J   0.80\n",
       "Name: poverty_probability, dtype: float64"
      ]
     },
     "execution_count": 63,
     "metadata": {},
     "output_type": "execute_result"
    }
   ],
   "source": [
    "poverty_data.groupby('country').poverty_probability.mean()"
   ]
  },
  {
   "cell_type": "markdown",
   "metadata": {},
   "source": [
    "# Outlier Detection\n",
    "- I am going to begin by looking at the age outliers and removing any high ages"
   ]
  },
  {
   "cell_type": "code",
   "execution_count": 64,
   "metadata": {},
   "outputs": [],
   "source": [
    "def boxplot(X):\n",
    "    plt.figure(figsize = (10, 5))\n",
    "    sns.boxplot(X)\n",
    "    return sns.boxplot(X)"
   ]
  },
  {
   "cell_type": "code",
   "execution_count": 65,
   "metadata": {},
   "outputs": [
    {
     "data": {
      "text/plain": [
       "<matplotlib.axes._subplots.AxesSubplot at 0x23bbe42d630>"
      ]
     },
     "execution_count": 65,
     "metadata": {},
     "output_type": "execute_result"
    },
    {
     "data": {
      "image/png": "[encoded data removed]",
      "text/plain": [
       "<Figure size 720x360 with 1 Axes>"
      ]
     },
     "metadata": {
      "needs_background": "light"
     },
     "output_type": "display_data"
    }
   ],
   "source": [
    "boxplot(data['age'])"
   ]
  },
  {
   "cell_type": "code",
   "execution_count": 66,
   "metadata": {},
   "outputs": [
    {
     "name": "stdout",
     "output_type": "stream",
     "text": [
      "[1.20812022 0.41876067 1.0765603  ... 1.01078033 0.28720074 0.68188052]\n"
     ]
    }
   ],
   "source": [
    "from scipy import stats\n",
    "import numpy as np\n",
    "z = np.abs(stats.zscore(data['age']))\n",
    "print(z)"
   ]
  },
  {
   "cell_type": "code",
   "execution_count": 67,
   "metadata": {},
   "outputs": [],
   "source": [
    "age_outliers = np.where(z > 3)"
   ]
  },
  {
   "cell_type": "code",
   "execution_count": 68,
   "metadata": {},
   "outputs": [
    {
     "data": {
      "text/plain": [
       "(array([  197,   329,   372,   466,   830,   854,   878,  1093,  1238,\n",
       "         1355,  1504,  1672,  1768,  1989,  2022,  2300,  2402,  3309,\n",
       "         3695,  3896,  3983,  4187,  4212,  4335,  4919,  5545,  5580,\n",
       "         5833,  5921,  5939,  6367,  6427,  6744,  6968,  7399,  7516,\n",
       "         7757,  7997,  8056,  8245,  8256,  8274,  8316,  8592,  8704,\n",
       "         9024,  9053,  9113,  9327,  9332,  9596,  9722,  9826,  9866,\n",
       "         9867, 10019, 10156, 10340, 10525, 10564, 10567, 10594, 10797,\n",
       "        10828, 11053, 11292, 11572, 11755, 11930, 12015, 12038, 12594,\n",
       "        12625, 12714, 13099, 13560, 13949, 13980, 14202, 14387, 14654,\n",
       "        14679, 14746, 14889, 14957, 15139, 15187, 15239, 15504, 16127,\n",
       "        16130, 16456, 16533, 16558, 16933, 16975, 17068, 17113, 17370,\n",
       "        17570, 17685, 18091, 18099, 18136, 19026, 19178, 19190, 19193,\n",
       "        19305, 19333, 19413, 19683, 19713, 19812, 20022, 20078, 20258,\n",
       "        20368, 20376, 20421, 20448, 20695, 20789], dtype=int64),)"
      ]
     },
     "execution_count": 68,
     "metadata": {},
     "output_type": "execute_result"
    }
   ],
   "source": [
    "age_outliers"
   ]
  },
  {
   "cell_type": "code",
   "execution_count": 69,
   "metadata": {},
   "outputs": [],
   "source": [
    "# data.drop(data.index[[197,   372,   466,   830,   854,   878,  1238,  1355,  1504,\n",
    "#          1672,  1768,  1989,  2300,  2402,  3309,  3695,  3983,  4187,\n",
    "#          4212,  4335,  4920,  5546,  5940,  6368,  6428,  6745,  7517,\n",
    "#          7758,  8057,  8236,  8247,  8258,  8276,  8318,  8594,  8706,\n",
    "#          9026,  9055,  9115,  9329,  9334,  9598,  9724,  9828,  9869,\n",
    "#         10021, 10158, 10342, 10527, 10566, 10569, 10596, 10799, 10830,\n",
    "#         11055, 11294, 11757, 12040, 12596, 12627, 12716, 13101, 13562,\n",
    "#         13982, 14204, 14389, 14656, 14681, 14748, 14891, 15141, 15189,\n",
    "#         15241, 15506, 16129, 16132, 16458, 16535, 16560, 16935, 16977,\n",
    "#         17070, 17115, 17372, 17572, 17687, 18093, 18101, 18138, 19028,\n",
    "#         19180, 19192, 19195, 19307, 19335, 19415, 19685, 19715, 19814,\n",
    "#         20024, 20080, 20260, 20370, 20378, 20423, 20450, 20697, 20791]], inplace = True)"
   ]
  },
  {
   "cell_type": "code",
   "execution_count": 70,
   "metadata": {},
   "outputs": [
    {
     "data": {
      "text/html": [
       "<div>\n",
       "<style scoped>\n",
       "    .dataframe tbody tr th:only-of-type {\n",
       "        vertical-align: middle;\n",
       "    }\n",
       "\n",
       "    .dataframe tbody tr th {\n",
       "        vertical-align: top;\n",
       "    }\n",
       "\n",
       "    .dataframe thead th {\n",
       "        text-align: right;\n",
       "    }\n",
       "</style>\n",
       "<table border=\"1\" class=\"dataframe\">\n",
       "  <thead>\n",
       "    <tr style=\"text-align: right;\">\n",
       "      <th></th>\n",
       "      <th>active_bank_user</th>\n",
       "      <th>active_formal_nbfi_user</th>\n",
       "      <th>active_informal_nbfi_user</th>\n",
       "      <th>active_mm_user</th>\n",
       "      <th>advanced_phone_use</th>\n",
       "      <th>age</th>\n",
       "      <th>avg_shock_strength_last_year</th>\n",
       "      <th>bank_interest_rate</th>\n",
       "      <th>borrowed_for_daily_expenses_last_year</th>\n",
       "      <th>borrowed_for_emergency_last_year</th>\n",
       "      <th>borrowed_for_home_or_biz_last_year</th>\n",
       "      <th>borrowing_recency</th>\n",
       "      <th>can_add</th>\n",
       "      <th>can_calc_compounding</th>\n",
       "      <th>can_calc_percents</th>\n",
       "      <th>can_call</th>\n",
       "      <th>can_divide</th>\n",
       "      <th>can_make_transaction</th>\n",
       "      <th>can_text</th>\n",
       "      <th>can_use_internet</th>\n",
       "      <th>cash_property_savings</th>\n",
       "      <th>country</th>\n",
       "      <th>education_level</th>\n",
       "      <th>employed_last_year</th>\n",
       "      <th>employment_category_last_year</th>\n",
       "      <th>employment_type_last_year</th>\n",
       "      <th>female</th>\n",
       "      <th>financially_included</th>\n",
       "      <th>formal_savings</th>\n",
       "      <th>has_insurance</th>\n",
       "      <th>has_investment</th>\n",
       "      <th>income_ag_livestock_last_year</th>\n",
       "      <th>income_friends_family_last_year</th>\n",
       "      <th>income_government_last_year</th>\n",
       "      <th>income_own_business_last_year</th>\n",
       "      <th>income_private_sector_last_year</th>\n",
       "      <th>income_public_sector_last_year</th>\n",
       "      <th>informal_savings</th>\n",
       "      <th>is_urban</th>\n",
       "      <th>literacy</th>\n",
       "      <th>married</th>\n",
       "      <th>mfi_interest_rate</th>\n",
       "      <th>mm_interest_rate</th>\n",
       "      <th>nonreg_active_mm_user</th>\n",
       "      <th>num_financial_activities_last_year</th>\n",
       "      <th>num_formal_institutions_last_year</th>\n",
       "      <th>num_informal_institutions_last_year</th>\n",
       "      <th>num_shocks_last_year</th>\n",
       "      <th>num_times_borrowed_last_year</th>\n",
       "      <th>other_fsp_interest_rate</th>\n",
       "      <th>phone_ownership</th>\n",
       "      <th>phone_technology</th>\n",
       "      <th>reg_bank_acct</th>\n",
       "      <th>reg_formal_nbfi_account</th>\n",
       "      <th>reg_mm_acct</th>\n",
       "      <th>relationship_to_hh_head</th>\n",
       "      <th>religion</th>\n",
       "      <th>row_id</th>\n",
       "      <th>share_hh_income_provided</th>\n",
       "      <th>testflag</th>\n",
       "      <th>poverty_probability</th>\n",
       "    </tr>\n",
       "  </thead>\n",
       "  <tbody>\n",
       "    <tr>\n",
       "      <th>9722</th>\n",
       "      <td>True</td>\n",
       "      <td>False</td>\n",
       "      <td>False</td>\n",
       "      <td>False</td>\n",
       "      <td>True</td>\n",
       "      <td>104.00</td>\n",
       "      <td>0.00</td>\n",
       "      <td>0.00</td>\n",
       "      <td>False</td>\n",
       "      <td>False</td>\n",
       "      <td>False</td>\n",
       "      <td>0</td>\n",
       "      <td>True</td>\n",
       "      <td>True</td>\n",
       "      <td>False</td>\n",
       "      <td>True</td>\n",
       "      <td>True</td>\n",
       "      <td>False</td>\n",
       "      <td>False</td>\n",
       "      <td>False</td>\n",
       "      <td>False</td>\n",
       "      <td>F</td>\n",
       "      <td>1.00</td>\n",
       "      <td>False</td>\n",
       "      <td>retired_or_disabled</td>\n",
       "      <td>not_working</td>\n",
       "      <td>False</td>\n",
       "      <td>True</td>\n",
       "      <td>True</td>\n",
       "      <td>False</td>\n",
       "      <td>False</td>\n",
       "      <td>True</td>\n",
       "      <td>True</td>\n",
       "      <td>True</td>\n",
       "      <td>False</td>\n",
       "      <td>False</td>\n",
       "      <td>False</td>\n",
       "      <td>False</td>\n",
       "      <td>True</td>\n",
       "      <td>False</td>\n",
       "      <td>True</td>\n",
       "      <td>0.00</td>\n",
       "      <td>0.00</td>\n",
       "      <td>False</td>\n",
       "      <td>1</td>\n",
       "      <td>1</td>\n",
       "      <td>0</td>\n",
       "      <td>0</td>\n",
       "      <td>0</td>\n",
       "      <td>0.00</td>\n",
       "      <td>2</td>\n",
       "      <td>1</td>\n",
       "      <td>True</td>\n",
       "      <td>False</td>\n",
       "      <td>False</td>\n",
       "      <td>Head</td>\n",
       "      <td>Q</td>\n",
       "      <td>9724</td>\n",
       "      <td>2.00</td>\n",
       "      <td>nan</td>\n",
       "      <td>0.32</td>\n",
       "    </tr>\n",
       "    <tr>\n",
       "      <th>2056</th>\n",
       "      <td>True</td>\n",
       "      <td>False</td>\n",
       "      <td>False</td>\n",
       "      <td>False</td>\n",
       "      <td>True</td>\n",
       "      <td>102.00</td>\n",
       "      <td>4.00</td>\n",
       "      <td>0.00</td>\n",
       "      <td>False</td>\n",
       "      <td>False</td>\n",
       "      <td>False</td>\n",
       "      <td>0</td>\n",
       "      <td>True</td>\n",
       "      <td>True</td>\n",
       "      <td>True</td>\n",
       "      <td>False</td>\n",
       "      <td>True</td>\n",
       "      <td>True</td>\n",
       "      <td>True</td>\n",
       "      <td>False</td>\n",
       "      <td>False</td>\n",
       "      <td>F</td>\n",
       "      <td>3.00</td>\n",
       "      <td>True</td>\n",
       "      <td>employed</td>\n",
       "      <td>salaried</td>\n",
       "      <td>False</td>\n",
       "      <td>True</td>\n",
       "      <td>False</td>\n",
       "      <td>False</td>\n",
       "      <td>False</td>\n",
       "      <td>True</td>\n",
       "      <td>True</td>\n",
       "      <td>True</td>\n",
       "      <td>False</td>\n",
       "      <td>False</td>\n",
       "      <td>True</td>\n",
       "      <td>False</td>\n",
       "      <td>True</td>\n",
       "      <td>True</td>\n",
       "      <td>True</td>\n",
       "      <td>0.00</td>\n",
       "      <td>0.00</td>\n",
       "      <td>False</td>\n",
       "      <td>4</td>\n",
       "      <td>1</td>\n",
       "      <td>0</td>\n",
       "      <td>1</td>\n",
       "      <td>0</td>\n",
       "      <td>0.00</td>\n",
       "      <td>2</td>\n",
       "      <td>3</td>\n",
       "      <td>True</td>\n",
       "      <td>False</td>\n",
       "      <td>False</td>\n",
       "      <td>Head</td>\n",
       "      <td>Q</td>\n",
       "      <td>2056</td>\n",
       "      <td>4.00</td>\n",
       "      <td>1.00</td>\n",
       "      <td>nan</td>\n",
       "    </tr>\n",
       "    <tr>\n",
       "      <th>4377</th>\n",
       "      <td>False</td>\n",
       "      <td>False</td>\n",
       "      <td>False</td>\n",
       "      <td>False</td>\n",
       "      <td>False</td>\n",
       "      <td>117.00</td>\n",
       "      <td>1.00</td>\n",
       "      <td>0.00</td>\n",
       "      <td>False</td>\n",
       "      <td>False</td>\n",
       "      <td>False</td>\n",
       "      <td>0</td>\n",
       "      <td>False</td>\n",
       "      <td>False</td>\n",
       "      <td>False</td>\n",
       "      <td>True</td>\n",
       "      <td>False</td>\n",
       "      <td>False</td>\n",
       "      <td>False</td>\n",
       "      <td>False</td>\n",
       "      <td>False</td>\n",
       "      <td>F</td>\n",
       "      <td>0.00</td>\n",
       "      <td>False</td>\n",
       "      <td>retired_or_disabled</td>\n",
       "      <td>not_working</td>\n",
       "      <td>True</td>\n",
       "      <td>False</td>\n",
       "      <td>False</td>\n",
       "      <td>False</td>\n",
       "      <td>False</td>\n",
       "      <td>True</td>\n",
       "      <td>True</td>\n",
       "      <td>False</td>\n",
       "      <td>False</td>\n",
       "      <td>False</td>\n",
       "      <td>False</td>\n",
       "      <td>False</td>\n",
       "      <td>False</td>\n",
       "      <td>False</td>\n",
       "      <td>True</td>\n",
       "      <td>0.00</td>\n",
       "      <td>0.00</td>\n",
       "      <td>False</td>\n",
       "      <td>0</td>\n",
       "      <td>0</td>\n",
       "      <td>0</td>\n",
       "      <td>2</td>\n",
       "      <td>0</td>\n",
       "      <td>0.00</td>\n",
       "      <td>1</td>\n",
       "      <td>0</td>\n",
       "      <td>False</td>\n",
       "      <td>False</td>\n",
       "      <td>False</td>\n",
       "      <td>Head</td>\n",
       "      <td>X</td>\n",
       "      <td>4377</td>\n",
       "      <td>1.00</td>\n",
       "      <td>1.00</td>\n",
       "      <td>nan</td>\n",
       "    </tr>\n",
       "  </tbody>\n",
       "</table>\n",
       "</div>"
      ],
      "text/plain": [
       "      active_bank_user  active_formal_nbfi_user  active_informal_nbfi_user  \\\n",
       "9722              True                    False                      False   \n",
       "2056              True                    False                      False   \n",
       "4377             False                    False                      False   \n",
       "\n",
       "      active_mm_user  advanced_phone_use    age  avg_shock_strength_last_year  \\\n",
       "9722           False                True 104.00                          0.00   \n",
       "2056           False                True 102.00                          4.00   \n",
       "4377           False               False 117.00                          1.00   \n",
       "\n",
       "      bank_interest_rate  borrowed_for_daily_expenses_last_year  \\\n",
       "9722                0.00                                  False   \n",
       "2056                0.00                                  False   \n",
       "4377                0.00                                  False   \n",
       "\n",
       "      borrowed_for_emergency_last_year  borrowed_for_home_or_biz_last_year  \\\n",
       "9722                             False                               False   \n",
       "2056                             False                               False   \n",
       "4377                             False                               False   \n",
       "\n",
       "      borrowing_recency  can_add  can_calc_compounding  can_calc_percents  \\\n",
       "9722                  0     True                  True              False   \n",
       "2056                  0     True                  True               True   \n",
       "4377                  0    False                 False              False   \n",
       "\n",
       "      can_call  can_divide  can_make_transaction  can_text  can_use_internet  \\\n",
       "9722      True        True                 False     False             False   \n",
       "2056     False        True                  True      True             False   \n",
       "4377      True       False                 False     False             False   \n",
       "\n",
       "      cash_property_savings country  education_level  employed_last_year  \\\n",
       "9722                  False       F             1.00               False   \n",
       "2056                  False       F             3.00                True   \n",
       "4377                  False       F             0.00               False   \n",
       "\n",
       "     employment_category_last_year employment_type_last_year  female  \\\n",
       "9722           retired_or_disabled               not_working   False   \n",
       "2056                      employed                  salaried   False   \n",
       "4377           retired_or_disabled               not_working    True   \n",
       "\n",
       "      financially_included  formal_savings  has_insurance  has_investment  \\\n",
       "9722                  True            True          False           False   \n",
       "2056                  True           False          False           False   \n",
       "4377                 False           False          False           False   \n",
       "\n",
       "      income_ag_livestock_last_year  income_friends_family_last_year  \\\n",
       "9722                           True                             True   \n",
       "2056                           True                             True   \n",
       "4377                           True                             True   \n",
       "\n",
       "      income_government_last_year  income_own_business_last_year  \\\n",
       "9722                         True                          False   \n",
       "2056                         True                          False   \n",
       "4377                        False                          False   \n",
       "\n",
       "      income_private_sector_last_year  income_public_sector_last_year  \\\n",
       "9722                            False                           False   \n",
       "2056                            False                            True   \n",
       "4377                            False                           False   \n",
       "\n",
       "      informal_savings  is_urban  literacy  married  mfi_interest_rate  \\\n",
       "9722             False      True     False     True               0.00   \n",
       "2056             False      True      True     True               0.00   \n",
       "4377             False     False     False     True               0.00   \n",
       "\n",
       "      mm_interest_rate  nonreg_active_mm_user  \\\n",
       "9722              0.00                  False   \n",
       "2056              0.00                  False   \n",
       "4377              0.00                  False   \n",
       "\n",
       "      num_financial_activities_last_year  num_formal_institutions_last_year  \\\n",
       "9722                                   1                                  1   \n",
       "2056                                   4                                  1   \n",
       "4377                                   0                                  0   \n",
       "\n",
       "      num_informal_institutions_last_year  num_shocks_last_year  \\\n",
       "9722                                    0                     0   \n",
       "2056                                    0                     1   \n",
       "4377                                    0                     2   \n",
       "\n",
       "      num_times_borrowed_last_year  other_fsp_interest_rate  phone_ownership  \\\n",
       "9722                             0                     0.00                2   \n",
       "2056                             0                     0.00                2   \n",
       "4377                             0                     0.00                1   \n",
       "\n",
       "      phone_technology  reg_bank_acct  reg_formal_nbfi_account  reg_mm_acct  \\\n",
       "9722                 1           True                    False        False   \n",
       "2056                 3           True                    False        False   \n",
       "4377                 0          False                    False        False   \n",
       "\n",
       "     relationship_to_hh_head religion  row_id  share_hh_income_provided  \\\n",
       "9722                    Head        Q    9724                      2.00   \n",
       "2056                    Head        Q    2056                      4.00   \n",
       "4377                    Head        X    4377                      1.00   \n",
       "\n",
       "      testflag  poverty_probability  \n",
       "9722       nan                 0.32  \n",
       "2056      1.00                  nan  \n",
       "4377      1.00                  nan  "
      ]
     },
     "execution_count": 70,
     "metadata": {},
     "output_type": "execute_result"
    }
   ],
   "source": [
    "data[data['age'] > 100]"
   ]
  },
  {
   "cell_type": "code",
   "execution_count": 71,
   "metadata": {},
   "outputs": [
    {
     "data": {
      "text/html": [
       "<div>\n",
       "<style scoped>\n",
       "    .dataframe tbody tr th:only-of-type {\n",
       "        vertical-align: middle;\n",
       "    }\n",
       "\n",
       "    .dataframe tbody tr th {\n",
       "        vertical-align: top;\n",
       "    }\n",
       "\n",
       "    .dataframe thead th {\n",
       "        text-align: right;\n",
       "    }\n",
       "</style>\n",
       "<table border=\"1\" class=\"dataframe\">\n",
       "  <thead>\n",
       "    <tr style=\"text-align: right;\">\n",
       "      <th></th>\n",
       "      <th>row_id</th>\n",
       "      <th>country</th>\n",
       "      <th>is_urban</th>\n",
       "      <th>age</th>\n",
       "      <th>female</th>\n",
       "      <th>married</th>\n",
       "      <th>religion</th>\n",
       "      <th>relationship_to_hh_head</th>\n",
       "      <th>education_level</th>\n",
       "      <th>literacy</th>\n",
       "      <th>can_add</th>\n",
       "      <th>can_divide</th>\n",
       "      <th>can_calc_percents</th>\n",
       "      <th>can_calc_compounding</th>\n",
       "      <th>employed_last_year</th>\n",
       "      <th>employment_category_last_year</th>\n",
       "      <th>employment_type_last_year</th>\n",
       "      <th>share_hh_income_provided</th>\n",
       "      <th>income_ag_livestock_last_year</th>\n",
       "      <th>income_friends_family_last_year</th>\n",
       "      <th>income_government_last_year</th>\n",
       "      <th>income_own_business_last_year</th>\n",
       "      <th>income_private_sector_last_year</th>\n",
       "      <th>income_public_sector_last_year</th>\n",
       "      <th>num_times_borrowed_last_year</th>\n",
       "      <th>borrowing_recency</th>\n",
       "      <th>formal_savings</th>\n",
       "      <th>informal_savings</th>\n",
       "      <th>cash_property_savings</th>\n",
       "      <th>has_insurance</th>\n",
       "      <th>has_investment</th>\n",
       "      <th>bank_interest_rate</th>\n",
       "      <th>mm_interest_rate</th>\n",
       "      <th>mfi_interest_rate</th>\n",
       "      <th>other_fsp_interest_rate</th>\n",
       "      <th>num_shocks_last_year</th>\n",
       "      <th>avg_shock_strength_last_year</th>\n",
       "      <th>borrowed_for_emergency_last_year</th>\n",
       "      <th>borrowed_for_daily_expenses_last_year</th>\n",
       "      <th>borrowed_for_home_or_biz_last_year</th>\n",
       "      <th>phone_technology</th>\n",
       "      <th>can_call</th>\n",
       "      <th>can_text</th>\n",
       "      <th>can_use_internet</th>\n",
       "      <th>can_make_transaction</th>\n",
       "      <th>phone_ownership</th>\n",
       "      <th>advanced_phone_use</th>\n",
       "      <th>reg_bank_acct</th>\n",
       "      <th>reg_mm_acct</th>\n",
       "      <th>reg_formal_nbfi_account</th>\n",
       "      <th>financially_included</th>\n",
       "      <th>active_bank_user</th>\n",
       "      <th>active_mm_user</th>\n",
       "      <th>active_formal_nbfi_user</th>\n",
       "      <th>active_informal_nbfi_user</th>\n",
       "      <th>nonreg_active_mm_user</th>\n",
       "      <th>num_formal_institutions_last_year</th>\n",
       "      <th>num_informal_institutions_last_year</th>\n",
       "      <th>num_financial_activities_last_year</th>\n",
       "      <th>testflag</th>\n",
       "    </tr>\n",
       "  </thead>\n",
       "  <tbody>\n",
       "    <tr>\n",
       "      <th>2056</th>\n",
       "      <td>2056</td>\n",
       "      <td>F</td>\n",
       "      <td>True</td>\n",
       "      <td>102.00</td>\n",
       "      <td>False</td>\n",
       "      <td>True</td>\n",
       "      <td>Q</td>\n",
       "      <td>Head</td>\n",
       "      <td>3.00</td>\n",
       "      <td>True</td>\n",
       "      <td>True</td>\n",
       "      <td>True</td>\n",
       "      <td>True</td>\n",
       "      <td>True</td>\n",
       "      <td>True</td>\n",
       "      <td>employed</td>\n",
       "      <td>salaried</td>\n",
       "      <td>4.00</td>\n",
       "      <td>True</td>\n",
       "      <td>True</td>\n",
       "      <td>True</td>\n",
       "      <td>False</td>\n",
       "      <td>False</td>\n",
       "      <td>True</td>\n",
       "      <td>0</td>\n",
       "      <td>0</td>\n",
       "      <td>False</td>\n",
       "      <td>False</td>\n",
       "      <td>False</td>\n",
       "      <td>False</td>\n",
       "      <td>False</td>\n",
       "      <td>nan</td>\n",
       "      <td>nan</td>\n",
       "      <td>nan</td>\n",
       "      <td>nan</td>\n",
       "      <td>1</td>\n",
       "      <td>4.00</td>\n",
       "      <td>False</td>\n",
       "      <td>False</td>\n",
       "      <td>False</td>\n",
       "      <td>3</td>\n",
       "      <td>False</td>\n",
       "      <td>True</td>\n",
       "      <td>False</td>\n",
       "      <td>True</td>\n",
       "      <td>2</td>\n",
       "      <td>True</td>\n",
       "      <td>True</td>\n",
       "      <td>False</td>\n",
       "      <td>False</td>\n",
       "      <td>True</td>\n",
       "      <td>True</td>\n",
       "      <td>False</td>\n",
       "      <td>False</td>\n",
       "      <td>False</td>\n",
       "      <td>False</td>\n",
       "      <td>1</td>\n",
       "      <td>0</td>\n",
       "      <td>4</td>\n",
       "      <td>1</td>\n",
       "    </tr>\n",
       "    <tr>\n",
       "      <th>4377</th>\n",
       "      <td>4377</td>\n",
       "      <td>F</td>\n",
       "      <td>False</td>\n",
       "      <td>117.00</td>\n",
       "      <td>True</td>\n",
       "      <td>True</td>\n",
       "      <td>X</td>\n",
       "      <td>Head</td>\n",
       "      <td>0.00</td>\n",
       "      <td>False</td>\n",
       "      <td>False</td>\n",
       "      <td>False</td>\n",
       "      <td>False</td>\n",
       "      <td>False</td>\n",
       "      <td>False</td>\n",
       "      <td>retired_or_disabled</td>\n",
       "      <td>not_working</td>\n",
       "      <td>1.00</td>\n",
       "      <td>True</td>\n",
       "      <td>True</td>\n",
       "      <td>False</td>\n",
       "      <td>False</td>\n",
       "      <td>False</td>\n",
       "      <td>False</td>\n",
       "      <td>0</td>\n",
       "      <td>0</td>\n",
       "      <td>False</td>\n",
       "      <td>False</td>\n",
       "      <td>False</td>\n",
       "      <td>False</td>\n",
       "      <td>False</td>\n",
       "      <td>nan</td>\n",
       "      <td>nan</td>\n",
       "      <td>nan</td>\n",
       "      <td>nan</td>\n",
       "      <td>2</td>\n",
       "      <td>1.00</td>\n",
       "      <td>False</td>\n",
       "      <td>False</td>\n",
       "      <td>False</td>\n",
       "      <td>0</td>\n",
       "      <td>True</td>\n",
       "      <td>False</td>\n",
       "      <td>False</td>\n",
       "      <td>False</td>\n",
       "      <td>1</td>\n",
       "      <td>False</td>\n",
       "      <td>False</td>\n",
       "      <td>False</td>\n",
       "      <td>False</td>\n",
       "      <td>False</td>\n",
       "      <td>False</td>\n",
       "      <td>False</td>\n",
       "      <td>False</td>\n",
       "      <td>False</td>\n",
       "      <td>False</td>\n",
       "      <td>0</td>\n",
       "      <td>0</td>\n",
       "      <td>0</td>\n",
       "      <td>1</td>\n",
       "    </tr>\n",
       "  </tbody>\n",
       "</table>\n",
       "</div>"
      ],
      "text/plain": [
       "      row_id country  is_urban    age  female  married religion  \\\n",
       "2056    2056       F      True 102.00   False     True        Q   \n",
       "4377    4377       F     False 117.00    True     True        X   \n",
       "\n",
       "     relationship_to_hh_head  education_level  literacy  can_add  can_divide  \\\n",
       "2056                    Head             3.00      True     True        True   \n",
       "4377                    Head             0.00     False    False       False   \n",
       "\n",
       "      can_calc_percents  can_calc_compounding  employed_last_year  \\\n",
       "2056               True                  True                True   \n",
       "4377              False                 False               False   \n",
       "\n",
       "     employment_category_last_year employment_type_last_year  \\\n",
       "2056                      employed                  salaried   \n",
       "4377           retired_or_disabled               not_working   \n",
       "\n",
       "      share_hh_income_provided  income_ag_livestock_last_year  \\\n",
       "2056                      4.00                           True   \n",
       "4377                      1.00                           True   \n",
       "\n",
       "      income_friends_family_last_year  income_government_last_year  \\\n",
       "2056                             True                         True   \n",
       "4377                             True                        False   \n",
       "\n",
       "      income_own_business_last_year  income_private_sector_last_year  \\\n",
       "2056                          False                            False   \n",
       "4377                          False                            False   \n",
       "\n",
       "      income_public_sector_last_year  num_times_borrowed_last_year  \\\n",
       "2056                            True                             0   \n",
       "4377                           False                             0   \n",
       "\n",
       "      borrowing_recency  formal_savings  informal_savings  \\\n",
       "2056                  0           False             False   \n",
       "4377                  0           False             False   \n",
       "\n",
       "      cash_property_savings  has_insurance  has_investment  \\\n",
       "2056                  False          False           False   \n",
       "4377                  False          False           False   \n",
       "\n",
       "      bank_interest_rate  mm_interest_rate  mfi_interest_rate  \\\n",
       "2056                 nan               nan                nan   \n",
       "4377                 nan               nan                nan   \n",
       "\n",
       "      other_fsp_interest_rate  num_shocks_last_year  \\\n",
       "2056                      nan                     1   \n",
       "4377                      nan                     2   \n",
       "\n",
       "      avg_shock_strength_last_year  borrowed_for_emergency_last_year  \\\n",
       "2056                          4.00                             False   \n",
       "4377                          1.00                             False   \n",
       "\n",
       "      borrowed_for_daily_expenses_last_year  \\\n",
       "2056                                  False   \n",
       "4377                                  False   \n",
       "\n",
       "      borrowed_for_home_or_biz_last_year  phone_technology  can_call  \\\n",
       "2056                               False                 3     False   \n",
       "4377                               False                 0      True   \n",
       "\n",
       "      can_text  can_use_internet  can_make_transaction  phone_ownership  \\\n",
       "2056      True             False                  True                2   \n",
       "4377     False             False                 False                1   \n",
       "\n",
       "      advanced_phone_use  reg_bank_acct  reg_mm_acct  reg_formal_nbfi_account  \\\n",
       "2056                True           True        False                    False   \n",
       "4377               False          False        False                    False   \n",
       "\n",
       "      financially_included  active_bank_user  active_mm_user  \\\n",
       "2056                  True              True           False   \n",
       "4377                 False             False           False   \n",
       "\n",
       "      active_formal_nbfi_user  active_informal_nbfi_user  \\\n",
       "2056                    False                      False   \n",
       "4377                    False                      False   \n",
       "\n",
       "      nonreg_active_mm_user  num_formal_institutions_last_year  \\\n",
       "2056                  False                                  1   \n",
       "4377                  False                                  0   \n",
       "\n",
       "      num_informal_institutions_last_year  num_financial_activities_last_year  \\\n",
       "2056                                    0                                   4   \n",
       "4377                                    0                                   0   \n",
       "\n",
       "      testflag  \n",
       "2056         1  \n",
       "4377         1  "
      ]
     },
     "execution_count": 71,
     "metadata": {},
     "output_type": "execute_result"
    }
   ],
   "source": [
    "test[test['age'] > 100]"
   ]
  },
  {
   "cell_type": "markdown",
   "metadata": {},
   "source": [
    "__Since the oldest person alive, ever, is 116 years old, I am going to drop the 115 and 117 year-old values, since these are pretty unbelievable, whereas the 104 and 102 are semi-believable__\n",
    "- So, the model improved significantly after removing these from the training set, one quirk here is that I had to drop them at the beginning of this notebook prior to concatenating the training and test sets for EDA, I had to do this becuase when I was making predictions for submission, the submissions were coming up two rows short, weird huh?, I'm sure this is a simple bug fix, but instead of diving into why this happened, I simply removed these outliers at the very beginning and called it a day"
   ]
  },
  {
   "cell_type": "code",
   "execution_count": 72,
   "metadata": {},
   "outputs": [],
   "source": [
    "#had to remove these from the training set before concatenating my training and test sets, it was forcing the predictions to be two rows short\n",
    "# data.drop(data.index[[8236, 4377]], inplace = True)"
   ]
  },
  {
   "cell_type": "markdown",
   "metadata": {},
   "source": [
    "I removed all of these outliers previously and the model became worse, so I am going to leave them in for now"
   ]
  },
  {
   "cell_type": "markdown",
   "metadata": {},
   "source": [
    "__Now I want to look at the remaining numeric columns__"
   ]
  },
  {
   "cell_type": "code",
   "execution_count": 73,
   "metadata": {},
   "outputs": [
    {
     "name": "stdout",
     "output_type": "stream",
     "text": [
      "<class 'pandas.core.frame.DataFrame'>\n",
      "Int64Index: 20998 entries, 0 to 8399\n",
      "Data columns (total 19 columns):\n",
      "age                                    20998 non-null float64\n",
      "avg_shock_strength_last_year           20998 non-null float64\n",
      "bank_interest_rate                     20998 non-null float64\n",
      "borrowing_recency                      20998 non-null int64\n",
      "education_level                        20998 non-null float64\n",
      "mfi_interest_rate                      20998 non-null float64\n",
      "mm_interest_rate                       20998 non-null float64\n",
      "num_financial_activities_last_year     20998 non-null int64\n",
      "num_formal_institutions_last_year      20998 non-null int64\n",
      "num_informal_institutions_last_year    20998 non-null int64\n",
      "num_shocks_last_year                   20998 non-null int64\n",
      "num_times_borrowed_last_year           20998 non-null int64\n",
      "other_fsp_interest_rate                20998 non-null float64\n",
      "phone_ownership                        20998 non-null int64\n",
      "phone_technology                       20998 non-null int64\n",
      "row_id                                 20998 non-null int64\n",
      "share_hh_income_provided               20998 non-null float64\n",
      "testflag                               8400 non-null float64\n",
      "poverty_probability                    12598 non-null float64\n",
      "dtypes: float64(10), int64(9)\n",
      "memory usage: 3.8 MB\n"
     ]
    }
   ],
   "source": [
    "data.select_dtypes(include = ['int64', 'float64']).info()"
   ]
  },
  {
   "cell_type": "markdown",
   "metadata": {},
   "source": [
    "__Getting boxplots for all the major numeric features, looking for outliers__"
   ]
  },
  {
   "cell_type": "code",
   "execution_count": 74,
   "metadata": {
    "scrolled": false
   },
   "outputs": [
    {
     "data": {
      "text/plain": [
       "<matplotlib.axes._subplots.AxesSubplot at 0x23bbe4eeba8>"
      ]
     },
     "execution_count": 74,
     "metadata": {},
     "output_type": "execute_result"
    },
    {
     "data": {
      "text/plain": [
       "<matplotlib.axes._subplots.AxesSubplot at 0x23bbe5a5e80>"
      ]
     },
     "execution_count": 74,
     "metadata": {},
     "output_type": "execute_result"
    },
    {
     "data": {
      "text/plain": [
       "<matplotlib.axes._subplots.AxesSubplot at 0x23bbe631588>"
      ]
     },
     "execution_count": 74,
     "metadata": {},
     "output_type": "execute_result"
    },
    {
     "data": {
      "text/plain": [
       "<matplotlib.axes._subplots.AxesSubplot at 0x23bbe679dd8>"
      ]
     },
     "execution_count": 74,
     "metadata": {},
     "output_type": "execute_result"
    },
    {
     "data": {
      "text/plain": [
       "<matplotlib.axes._subplots.AxesSubplot at 0x23bbe874710>"
      ]
     },
     "execution_count": 74,
     "metadata": {},
     "output_type": "execute_result"
    },
    {
     "data": {
      "text/plain": [
       "<matplotlib.axes._subplots.AxesSubplot at 0x23bbe8bdf60>"
      ]
     },
     "execution_count": 74,
     "metadata": {},
     "output_type": "execute_result"
    },
    {
     "data": {
      "text/plain": [
       "<matplotlib.axes._subplots.AxesSubplot at 0x23bbe90b7b8>"
      ]
     },
     "execution_count": 74,
     "metadata": {},
     "output_type": "execute_result"
    },
    {
     "data": {
      "text/plain": [
       "<matplotlib.axes._subplots.AxesSubplot at 0x23bbe95a128>"
      ]
     },
     "execution_count": 74,
     "metadata": {},
     "output_type": "execute_result"
    },
    {
     "data": {
      "image/png": "[encoded data removed]",
      "text/plain": [
       "<Figure size 720x360 with 1 Axes>"
      ]
     },
     "metadata": {
      "needs_background": "light"
     },
     "output_type": "display_data"
    },
    {
     "data": {
      "image/png": "[encoded data removed]",
      "text/plain": [
       "<Figure size 720x360 with 1 Axes>"
      ]
     },
     "metadata": {
      "needs_background": "light"
     },
     "output_type": "display_data"
    },
    {
     "data": {
      "image/png": "[encoded data removed]",
      "text/plain": [
       "<Figure size 720x360 with 1 Axes>"
      ]
     },
     "metadata": {
      "needs_background": "light"
     },
     "output_type": "display_data"
    },
    {
     "data": {
      "image/png": "[encoded data removed]",
      "text/plain": [
       "<Figure size 720x360 with 1 Axes>"
      ]
     },
     "metadata": {
      "needs_background": "light"
     },
     "output_type": "display_data"
    },
    {
     "data": {
      "image/png": "[encoded data removed]",
      "text/plain": [
       "<Figure size 720x360 with 1 Axes>"
      ]
     },
     "metadata": {
      "needs_background": "light"
     },
     "output_type": "display_data"
    },
    {
     "data": {
      "image/png": "[encoded data removed]",
      "text/plain": [
       "<Figure size 720x360 with 1 Axes>"
      ]
     },
     "metadata": {
      "needs_background": "light"
     },
     "output_type": "display_data"
    },
    {
     "data": {
      "image/png": "[encoded data removed]",
      "text/plain": [
       "<Figure size 720x360 with 1 Axes>"
      ]
     },
     "metadata": {
      "needs_background": "light"
     },
     "output_type": "display_data"
    },
    {
     "data": {
      "image/png": "[encoded data removed]",
      "text/plain": [
       "<Figure size 720x360 with 1 Axes>"
      ]
     },
     "metadata": {
      "needs_background": "light"
     },
     "output_type": "display_data"
    }
   ],
   "source": [
    "boxplot(data['avg_shock_strength_last_year'])\n",
    "boxplot(data['borrowing_recency'])\n",
    "boxplot(data['num_financial_activities_last_year'])\n",
    "boxplot(data['num_formal_institutions_last_year'])\n",
    "boxplot(data['num_informal_institutions_last_year'])\n",
    "boxplot(data['num_shocks_last_year'])\n",
    "boxplot(data['num_times_borrowed_last_year'])\n",
    "boxplot(data['share_hh_income_provided'])"
   ]
  },
  {
   "cell_type": "markdown",
   "metadata": {},
   "source": [
    "__I want to start with number of financial activities last year__"
   ]
  },
  {
   "cell_type": "code",
   "execution_count": 75,
   "metadata": {},
   "outputs": [
    {
     "data": {
      "text/plain": [
       "0     5886\n",
       "1     2041\n",
       "2     1424\n",
       "3     1078\n",
       "4      841\n",
       "5      562\n",
       "6      334\n",
       "7      206\n",
       "8      152\n",
       "9       48\n",
       "10      26\n",
       "Name: num_financial_activities_last_year, dtype: int64"
      ]
     },
     "execution_count": 75,
     "metadata": {},
     "output_type": "execute_result"
    }
   ],
   "source": [
    "train['num_financial_activities_last_year'].value_counts()"
   ]
  },
  {
   "cell_type": "markdown",
   "metadata": {},
   "source": [
    "__Now I want to look at number of formal institutions last year__"
   ]
  },
  {
   "cell_type": "code",
   "execution_count": 76,
   "metadata": {},
   "outputs": [
    {
     "data": {
      "text/plain": [
       "0    5802\n",
       "1    5066\n",
       "2    1373\n",
       "3     263\n",
       "4      78\n",
       "5      13\n",
       "6       3\n",
       "Name: num_formal_institutions_last_year, dtype: int64"
      ]
     },
     "execution_count": 76,
     "metadata": {},
     "output_type": "execute_result"
    }
   ],
   "source": [
    "train['num_formal_institutions_last_year'].value_counts()"
   ]
  },
  {
   "cell_type": "code",
   "execution_count": 77,
   "metadata": {},
   "outputs": [],
   "source": [
    "#----------------------the model performs worse when we drop these outliers\n",
    "# #drop outliers\n",
    "# institution_outliers_df = train[train['num_formal_institutions_last_year'] > 5]\n",
    "# train.drop(institution_outliers_df.index, axis = 0, inplace=True)"
   ]
  },
  {
   "cell_type": "code",
   "execution_count": 78,
   "metadata": {},
   "outputs": [],
   "source": [
    "# #check to see that it worked\n",
    "# train['num_formal_institutions_last_year'].value_counts()"
   ]
  },
  {
   "cell_type": "markdown",
   "metadata": {},
   "source": [
    "__Now I want to look at times borrowed last year__"
   ]
  },
  {
   "cell_type": "code",
   "execution_count": 79,
   "metadata": {},
   "outputs": [
    {
     "data": {
      "text/plain": [
       "0    7512\n",
       "1    2653\n",
       "2    1666\n",
       "3     767\n",
       "Name: num_times_borrowed_last_year, dtype: int64"
      ]
     },
     "execution_count": 79,
     "metadata": {},
     "output_type": "execute_result"
    }
   ],
   "source": [
    "train['num_times_borrowed_last_year'].value_counts()"
   ]
  },
  {
   "cell_type": "markdown",
   "metadata": {},
   "source": [
    "__-------------NOTE: I removed all of these outliers and validated various models afterward, the models performed worse after removing these, so I have left the outliers detected above in the data aside from the two age outliers----------------------------__"
   ]
  },
  {
   "cell_type": "markdown",
   "metadata": {},
   "source": [
    "# Feature Engineering"
   ]
  },
  {
   "cell_type": "markdown",
   "metadata": {},
   "source": [
    "__Here I want to begin with looking at features to create within the education features__"
   ]
  },
  {
   "cell_type": "code",
   "execution_count": 80,
   "metadata": {},
   "outputs": [],
   "source": [
    "#I am going to add together all of the \"can\" and \"literacy\" features to get a total score of ability\n",
    "ed_mapper = {'False':0, 'True':1}\n",
    "data['literacy'] = data['literacy'].astype(str)\n",
    "data['literacy'].replace(ed_mapper, inplace = True)\n",
    "\n",
    "data['can_add'] = data['can_add'].astype(str)\n",
    "data['can_add'].replace(ed_mapper, inplace = True)\n",
    "\n",
    "data['can_divide'] = data['can_divide'].astype(str)\n",
    "data['can_divide'].replace(ed_mapper, inplace = True)\n",
    "\n",
    "data['can_calc_percents'] = data['can_calc_percents'].astype(str)\n",
    "data['can_calc_percents'].replace(ed_mapper, inplace=True)\n",
    "\n",
    "data['can_calc_compounding'] = data['can_calc_compounding'].astype(str)\n",
    "data['can_calc_compounding'].replace(ed_mapper, inplace=True)\n",
    "\n",
    "data['education_skills'] = data['literacy'] + data['can_add'] + data['can_divide'] + data['can_calc_percents'] + data['can_calc_compounding']"
   ]
  },
  {
   "cell_type": "code",
   "execution_count": 81,
   "metadata": {},
   "outputs": [
    {
     "data": {
      "text/plain": [
       "-0.1482227700113392"
      ]
     },
     "execution_count": 81,
     "metadata": {},
     "output_type": "execute_result"
    }
   ],
   "source": [
    "data['education_skills'].corr(data['poverty_probability'])"
   ]
  },
  {
   "cell_type": "code",
   "execution_count": 82,
   "metadata": {},
   "outputs": [
    {
     "data": {
      "text/plain": [
       "-0.3245572513116057"
      ]
     },
     "execution_count": 82,
     "metadata": {},
     "output_type": "execute_result"
    }
   ],
   "source": [
    "#see if we can multiply our education level by the education skills category to get overall intelligence level?\n",
    "data['overall_cognitive_ability'] = data['education_skills'] * data['education_level']\n",
    "data['overall_cognitive_ability'].corr(data['poverty_probability'])"
   ]
  },
  {
   "cell_type": "markdown",
   "metadata": {},
   "source": [
    "__Now I want to look at phone use, aggregating can_call, can_text, can_use_internet, can_make_transaction, and advanced_phone_use in order to create an overall phone use score__"
   ]
  },
  {
   "cell_type": "code",
   "execution_count": 83,
   "metadata": {},
   "outputs": [],
   "source": [
    "phone_mapper = {'False':0, 'True':1}\n",
    "data['can_call'] = data['can_call'].astype(str)\n",
    "data['can_call'].replace(ed_mapper, inplace = True)\n",
    "\n",
    "data['can_text'] = data['can_text'].astype(str)\n",
    "data['can_text'].replace(ed_mapper, inplace = True)\n",
    "\n",
    "data['can_use_internet'] = data['can_use_internet'].astype(str)\n",
    "data['can_use_internet'].replace(ed_mapper, inplace = True)\n",
    "\n",
    "data['can_make_transaction'] = data['can_make_transaction'].astype(str)\n",
    "data['can_make_transaction'].replace(ed_mapper, inplace = True)\n",
    "\n",
    "data['advanced_phone_use'] = data['advanced_phone_use'].astype(str)\n",
    "data['advanced_phone_use'].replace(ed_mapper, inplace = True)\n",
    "\n",
    "data['phone_mastery'] = data['can_call'] + data['can_text'] + data['can_use_internet'] + data['can_make_transaction'] + data['advanced_phone_use']"
   ]
  },
  {
   "cell_type": "code",
   "execution_count": 84,
   "metadata": {},
   "outputs": [
    {
     "data": {
      "text/plain": [
       "-0.3259091693078071"
      ]
     },
     "execution_count": 84,
     "metadata": {},
     "output_type": "execute_result"
    }
   ],
   "source": [
    "data['phone_mastery'].corr(data['poverty_probability'])"
   ]
  },
  {
   "cell_type": "markdown",
   "metadata": {},
   "source": [
    "__Now I am going to look at borrowing information about each person__"
   ]
  },
  {
   "cell_type": "code",
   "execution_count": 85,
   "metadata": {},
   "outputs": [
    {
     "data": {
      "text/plain": [
       "0.052171730615034405"
      ]
     },
     "execution_count": 85,
     "metadata": {},
     "output_type": "execute_result"
    }
   ],
   "source": [
    "#I want to look for relationships between the amount that someone is borrowing and the amount of income that the individual provides for their household\n",
    "data['borrowed/share_hh_income'] = data['num_times_borrowed_last_year'] / data['share_hh_income_provided']\n",
    "data['borrowed/share_hh_income'].corr(data['poverty_probability'])"
   ]
  },
  {
   "cell_type": "code",
   "execution_count": 86,
   "metadata": {},
   "outputs": [
    {
     "data": {
      "text/plain": [
       "0.12895217258917474"
      ]
     },
     "execution_count": 86,
     "metadata": {},
     "output_type": "execute_result"
    }
   ],
   "source": [
    "#looking at number of financial shocks experienced and shock strength\n",
    "data['financial_shock_magnitude'] = data['num_shocks_last_year']*data['avg_shock_strength_last_year']\n",
    "data['financial_shock_magnitude'].corr(data['poverty_probability'])"
   ]
  },
  {
   "cell_type": "code",
   "execution_count": 87,
   "metadata": {},
   "outputs": [
    {
     "data": {
      "text/plain": [
       "-0.02622135858162929"
      ]
     },
     "execution_count": 87,
     "metadata": {},
     "output_type": "execute_result"
    }
   ],
   "source": [
    "#adding together interest rates to get a picture of a total interest rate if a person has more than one loan\n",
    "data['total_current_interest'] = data['bank_interest_rate'] + data['mfi_interest_rate'] + data['other_fsp_interest_rate'] + data['mm_interest_rate']\n",
    "data['total_current_interest'].corr(data['poverty_probability'])"
   ]
  },
  {
   "cell_type": "markdown",
   "metadata": {},
   "source": [
    "__Now I want to look at the income factors here__"
   ]
  },
  {
   "cell_type": "code",
   "execution_count": 88,
   "metadata": {},
   "outputs": [
    {
     "data": {
      "text/plain": [
       "-0.12530200586993986"
      ]
     },
     "execution_count": 88,
     "metadata": {},
     "output_type": "execute_result"
    }
   ],
   "source": [
    "income_mapper = {'False':0, 'True':1}\n",
    "data['income_friends_family_last_year'] = data['income_friends_family_last_year'].astype(str)\n",
    "data['income_friends_family_last_year'].replace(income_mapper, inplace = True)\n",
    "\n",
    "data['income_government_last_year'] = data['income_government_last_year'].astype(str)\n",
    "data['income_government_last_year'].replace(income_mapper, inplace = True)\n",
    "\n",
    "data['external_income'] = data['income_friends_family_last_year'] + data['income_government_last_year']\n",
    "\n",
    "data['external_income'].corr(data['poverty_probability'])"
   ]
  },
  {
   "cell_type": "code",
   "execution_count": 89,
   "metadata": {},
   "outputs": [],
   "source": [
    "data['income_ag_livestock_last_year'] = data['income_ag_livestock_last_year'].astype(str)\n",
    "data['income_ag_livestock_last_year'].replace(income_mapper, inplace=True)\n",
    "\n",
    "data['income_own_business_last_year'] = data['income_own_business_last_year'].astype(str)\n",
    "data['income_own_business_last_year'].replace(income_mapper, inplace = True)\n",
    "\n",
    "data['income_private_sector_last_year'] = data['income_private_sector_last_year'].astype(str)\n",
    "data['income_private_sector_last_year'].replace(income_mapper, inplace = True)\n",
    "\n",
    "data['income_public_sector_last_year'] = data['income_public_sector_last_year'].astype(str)\n",
    "data['income_public_sector_last_year'].replace(income_mapper, inplace = True)\n",
    "\n",
    "data['total_income_streams'] = data['income_ag_livestock_last_year'] + data['income_friends_family_last_year'] + data['income_government_last_year'] + \\\n",
    "                                        data['income_own_business_last_year'] + data['income_private_sector_last_year'] + data['income_public_sector_last_year']"
   ]
  },
  {
   "cell_type": "code",
   "execution_count": 90,
   "metadata": {},
   "outputs": [
    {
     "data": {
      "text/plain": [
       "-0.14379549567373748"
      ]
     },
     "execution_count": 90,
     "metadata": {},
     "output_type": "execute_result"
    }
   ],
   "source": [
    "data['total_income_streams'].corr(data['poverty_probability'])"
   ]
  },
  {
   "cell_type": "markdown",
   "metadata": {},
   "source": [
    "__-------------NOTE: The model scores better on the training set without the two features below-------------__"
   ]
  },
  {
   "cell_type": "markdown",
   "metadata": {},
   "source": [
    "__I wonder if age and education level have any hidden relationship?__\n",
    "- interestingly, the model scores better with this left out even though it is reasonable correlated witht the target"
   ]
  },
  {
   "cell_type": "code",
   "execution_count": 91,
   "metadata": {},
   "outputs": [],
   "source": [
    "# data['education_level_age'] = data['education_level']/data['age']\n",
    "# data['education_level_age'].corr(data['poverty_probability'])"
   ]
  },
  {
   "cell_type": "markdown",
   "metadata": {},
   "source": [
    "__Get an aggregated savings feature__"
   ]
  },
  {
   "cell_type": "code",
   "execution_count": 92,
   "metadata": {},
   "outputs": [],
   "source": [
    "# savings_mapper = {'False':0, 'True':1}\n",
    "# data['formal_savings'] = data['formal_savings'].astype(str)\n",
    "# data['formal_savings'].replace(savings_mapper, inplace = True)\n",
    "\n",
    "# data['informal_savings'] = data['informal_savings'].astype(str)\n",
    "# data['informal_savings'].replace(savings_mapper, inplace = True)\n",
    "\n",
    "# data['cash_property_savings'] = data['cash_property_savings'].astype(str)\n",
    "# data['cash_property_savings'].replace(savings_mapper, inplace = True)\n",
    "\n",
    "# data['total_savings'] = data['formal_savings'] + data['informal_savings'] + data['cash_property_savings']\n",
    "# data['total_savings'].corr(data['poverty_probability'])"
   ]
  },
  {
   "cell_type": "markdown",
   "metadata": {},
   "source": [
    "# Numeric Feature Tranformations\n",
    "- I am going to transform numeric features to have a more normal distribution if possible, but as I am increasingly becoming aware of, using log transformations or box cox transformations are impossible on data a lot of the time that is 0 or 1"
   ]
  },
  {
   "cell_type": "code",
   "execution_count": 93,
   "metadata": {},
   "outputs": [
    {
     "data": {
      "text/plain": [
       "array([[<matplotlib.axes._subplots.AxesSubplot object at 0x0000023BBEB55940>,\n",
       "        <matplotlib.axes._subplots.AxesSubplot object at 0x0000023BBEE1DC88>,\n",
       "        <matplotlib.axes._subplots.AxesSubplot object at 0x0000023BBEE4C208>,\n",
       "        <matplotlib.axes._subplots.AxesSubplot object at 0x0000023BBEE72780>,\n",
       "        <matplotlib.axes._subplots.AxesSubplot object at 0x0000023BBEE99CF8>,\n",
       "        <matplotlib.axes._subplots.AxesSubplot object at 0x0000023BBEECD1D0>,\n",
       "        <matplotlib.axes._subplots.AxesSubplot object at 0x0000023BBEEF3748>],\n",
       "       [<matplotlib.axes._subplots.AxesSubplot object at 0x0000023BBFAE9CF8>,\n",
       "        <matplotlib.axes._subplots.AxesSubplot object at 0x0000023BBFAE9D30>,\n",
       "        <matplotlib.axes._subplots.AxesSubplot object at 0x0000023BBFB437F0>,\n",
       "        <matplotlib.axes._subplots.AxesSubplot object at 0x0000023BBFB6AD30>,\n",
       "        <matplotlib.axes._subplots.AxesSubplot object at 0x0000023BBFB9A2E8>,\n",
       "        <matplotlib.axes._subplots.AxesSubplot object at 0x0000023BBE9705C0>,\n",
       "        <matplotlib.axes._subplots.AxesSubplot object at 0x0000023BBEA50AC8>],\n",
       "       [<matplotlib.axes._subplots.AxesSubplot object at 0x0000023BBEA2CB70>,\n",
       "        <matplotlib.axes._subplots.AxesSubplot object at 0x0000023BBEA10550>,\n",
       "        <matplotlib.axes._subplots.AxesSubplot object at 0x0000023BBEA3B780>,\n",
       "        <matplotlib.axes._subplots.AxesSubplot object at 0x0000023BBEA57710>,\n",
       "        <matplotlib.axes._subplots.AxesSubplot object at 0x0000023BBE5A5E80>,\n",
       "        <matplotlib.axes._subplots.AxesSubplot object at 0x0000023BBE50CE10>,\n",
       "        <matplotlib.axes._subplots.AxesSubplot object at 0x0000023BBE94E278>],\n",
       "       [<matplotlib.axes._subplots.AxesSubplot object at 0x0000023BBFBD17F0>,\n",
       "        <matplotlib.axes._subplots.AxesSubplot object at 0x0000023BBE91FD68>,\n",
       "        <matplotlib.axes._subplots.AxesSubplot object at 0x0000023BBE8E8320>,\n",
       "        <matplotlib.axes._subplots.AxesSubplot object at 0x0000023BBE860898>,\n",
       "        <matplotlib.axes._subplots.AxesSubplot object at 0x0000023BBE8B2898>,\n",
       "        <matplotlib.axes._subplots.AxesSubplot object at 0x0000023BBE5973C8>,\n",
       "        <matplotlib.axes._subplots.AxesSubplot object at 0x0000023BBE5B8940>],\n",
       "       [<matplotlib.axes._subplots.AxesSubplot object at 0x0000023BBE66FEB8>,\n",
       "        <matplotlib.axes._subplots.AxesSubplot object at 0x0000023BBE619470>,\n",
       "        <matplotlib.axes._subplots.AxesSubplot object at 0x0000023BBFBED9E8>,\n",
       "        <matplotlib.axes._subplots.AxesSubplot object at 0x0000023BBFC14F60>,\n",
       "        <matplotlib.axes._subplots.AxesSubplot object at 0x0000023BBFC46518>,\n",
       "        <matplotlib.axes._subplots.AxesSubplot object at 0x0000023BBFC6DA90>,\n",
       "        <matplotlib.axes._subplots.AxesSubplot object at 0x0000023BBFCA0048>],\n",
       "       [<matplotlib.axes._subplots.AxesSubplot object at 0x0000023BBFCC65C0>,\n",
       "        <matplotlib.axes._subplots.AxesSubplot object at 0x0000023BBFCEDB38>,\n",
       "        <matplotlib.axes._subplots.AxesSubplot object at 0x0000023BBFD1F0F0>,\n",
       "        <matplotlib.axes._subplots.AxesSubplot object at 0x0000023BBFD46668>,\n",
       "        <matplotlib.axes._subplots.AxesSubplot object at 0x0000023BBFD6DBE0>,\n",
       "        <matplotlib.axes._subplots.AxesSubplot object at 0x0000023BC1E80198>,\n",
       "        <matplotlib.axes._subplots.AxesSubplot object at 0x0000023BC1EA7710>],\n",
       "       [<matplotlib.axes._subplots.AxesSubplot object at 0x0000023BC1ECEC88>,\n",
       "        <matplotlib.axes._subplots.AxesSubplot object at 0x0000023BC1F01240>,\n",
       "        <matplotlib.axes._subplots.AxesSubplot object at 0x0000023BC1F277B8>,\n",
       "        <matplotlib.axes._subplots.AxesSubplot object at 0x0000023BC1F51D30>,\n",
       "        <matplotlib.axes._subplots.AxesSubplot object at 0x0000023BC1F802E8>,\n",
       "        <matplotlib.axes._subplots.AxesSubplot object at 0x0000023BC1FA7860>,\n",
       "        <matplotlib.axes._subplots.AxesSubplot object at 0x0000023BC1FD0DD8>]],\n",
       "      dtype=object)"
      ]
     },
     "execution_count": 93,
     "metadata": {},
     "output_type": "execute_result"
    },
    {
     "data": {
      "image/png": "[encoded data removed]",
      "text/plain": [
       "<Figure size 1440x1440 with 49 Axes>"
      ]
     },
     "metadata": {
      "needs_background": "light"
     },
     "output_type": "display_data"
    }
   ],
   "source": [
    "num_data = data.select_dtypes(include = ['float64', 'int64'])\n",
    "num_data.hist(figsize = (20, 20))"
   ]
  },
  {
   "cell_type": "code",
   "execution_count": 94,
   "metadata": {},
   "outputs": [
    {
     "data": {
      "text/plain": [
       "<matplotlib.axes._subplots.AxesSubplot at 0x23bc3159668>"
      ]
     },
     "execution_count": 94,
     "metadata": {},
     "output_type": "execute_result"
    },
    {
     "data": {
      "image/png": "[encoded data removed]",
      "text/plain": [
       "<Figure size 432x288 with 1 Axes>"
      ]
     },
     "metadata": {
      "needs_background": "light"
     },
     "output_type": "display_data"
    }
   ],
   "source": [
    "np.log(data['age']).hist()"
   ]
  },
  {
   "cell_type": "code",
   "execution_count": 95,
   "metadata": {},
   "outputs": [],
   "source": [
    "data['age'] = np.log(data['age'])"
   ]
  },
  {
   "cell_type": "markdown",
   "metadata": {},
   "source": [
    "# Feature Selection\n",
    "- Interesting note, this greatly reduced the quality of the predictions, so I have left this in here to refer back to later on, but only as a future resource, and to be able to look at feature importances in a different way to make the black box models more interpretable, like feature_importances_"
   ]
  },
  {
   "cell_type": "code",
   "execution_count": 96,
   "metadata": {},
   "outputs": [],
   "source": [
    "import pandas as pd\n",
    "from sklearn import preprocessing\n",
    "import sklearn.model_selection as ms\n",
    "from sklearn import linear_model\n",
    "import sklearn.metrics as sklm\n",
    "from sklearn import feature_selection as fs\n",
    "import numpy as np\n",
    "import numpy.random as nr\n",
    "import matplotlib.pyplot as plt\n",
    "import seaborn as sns\n",
    "import scipy.stats as ss\n",
    "import math\n",
    "\n",
    "%matplotlib inline"
   ]
  },
  {
   "cell_type": "markdown",
   "metadata": {},
   "source": [
    "__Gotta run the modeling code first before this__"
   ]
  },
  {
   "cell_type": "code",
   "execution_count": 97,
   "metadata": {},
   "outputs": [
    {
     "ename": "NameError",
     "evalue": "name 'train_data' is not defined",
     "output_type": "error",
     "traceback": [
      "\u001b[1;31m---------------------------------------------------------------------------\u001b[0m",
      "\u001b[1;31mNameError\u001b[0m                                 Traceback (most recent call last)",
      "\u001b[1;32m<ipython-input-97-8701fd239e13>\u001b[0m in \u001b[0;36m<module>\u001b[1;34m\u001b[0m\n\u001b[0;32m      1\u001b[0m \u001b[1;31m## Define the variance threhold and fit the threshold to the feature array.\u001b[0m\u001b[1;33m\u001b[0m\u001b[1;33m\u001b[0m\u001b[1;33m\u001b[0m\u001b[0m\n\u001b[0;32m      2\u001b[0m \u001b[0msel\u001b[0m \u001b[1;33m=\u001b[0m \u001b[0mfs\u001b[0m\u001b[1;33m.\u001b[0m\u001b[0mVarianceThreshold\u001b[0m\u001b[1;33m(\u001b[0m\u001b[0mthreshold\u001b[0m\u001b[1;33m=\u001b[0m\u001b[1;33m(\u001b[0m\u001b[1;36m.8\u001b[0m \u001b[1;33m*\u001b[0m \u001b[1;33m(\u001b[0m\u001b[1;36m1\u001b[0m \u001b[1;33m-\u001b[0m \u001b[1;36m.8\u001b[0m\u001b[1;33m)\u001b[0m\u001b[1;33m)\u001b[0m\u001b[1;33m)\u001b[0m\u001b[1;33m\u001b[0m\u001b[1;33m\u001b[0m\u001b[0m\n\u001b[1;32m----> 3\u001b[1;33m \u001b[0mFeatures_reduced\u001b[0m \u001b[1;33m=\u001b[0m \u001b[0msel\u001b[0m\u001b[1;33m.\u001b[0m\u001b[0mfit_transform\u001b[0m\u001b[1;33m(\u001b[0m\u001b[0mtrain_data\u001b[0m\u001b[1;33m.\u001b[0m\u001b[0mselect_dtypes\u001b[0m\u001b[1;33m(\u001b[0m\u001b[0mexclude\u001b[0m \u001b[1;33m=\u001b[0m \u001b[1;33m[\u001b[0m\u001b[1;34m'object'\u001b[0m\u001b[1;33m]\u001b[0m\u001b[1;33m)\u001b[0m\u001b[1;33m)\u001b[0m\u001b[1;33m\u001b[0m\u001b[1;33m\u001b[0m\u001b[0m\n\u001b[0m\u001b[0;32m      4\u001b[0m \u001b[1;33m\u001b[0m\u001b[0m\n\u001b[0;32m      5\u001b[0m \u001b[1;31m## Print the support and shape for the transformed features\u001b[0m\u001b[1;33m\u001b[0m\u001b[1;33m\u001b[0m\u001b[1;33m\u001b[0m\u001b[0m\n",
      "\u001b[1;31mNameError\u001b[0m: name 'train_data' is not defined"
     ]
    }
   ],
   "source": [
    "## Define the variance threhold and fit the threshold to the feature array. \n",
    "sel = fs.VarianceThreshold(threshold=(.8 * (1 - .8)))\n",
    "Features_reduced = sel.fit_transform(train_data.select_dtypes(exclude = ['object']))\n",
    "\n",
    "## Print the support and shape for the transformed features\n",
    "print(sel.get_support())\n",
    "print(Features_reduced.shape)"
   ]
  },
  {
   "cell_type": "code",
   "execution_count": null,
   "metadata": {},
   "outputs": [],
   "source": [
    "## Reshape the Label array\n",
    "labels = np.array(labels)\n",
    "Labels = labels.reshape(labels.shape[0],)\n",
    "\n",
    "## Set folds for nested cross validation\n",
    "nr.seed(988)\n",
    "feature_folds = ms.KFold(n_splits=5, shuffle = True)\n",
    "\n",
    "## Perform feature selection by CV with high variance features only\n",
    "nr.seed(6677)\n",
    "selector = fs.RFECV(estimator = rf, cv = feature_folds,\n",
    "                      scoring = 'r2')\n",
    "selector = selector.fit(Features_reduced, Labels)\n",
    "selector.support_ "
   ]
  },
  {
   "cell_type": "code",
   "execution_count": null,
   "metadata": {},
   "outputs": [],
   "source": [
    "selector.ranking_"
   ]
  },
  {
   "cell_type": "code",
   "execution_count": null,
   "metadata": {},
   "outputs": [],
   "source": [
    "Features_reduced = selector.transform(Features_reduced)\n",
    "Features_reduced.shape"
   ]
  },
  {
   "cell_type": "code",
   "execution_count": null,
   "metadata": {
    "scrolled": false
   },
   "outputs": [],
   "source": [
    "plt.plot(range(1, len(selector.grid_scores_) + 1), selector.grid_scores_)\n",
    "plt.title('Mean AUC by number of features')\n",
    "plt.ylabel('AUC')\n",
    "plt.xlabel('Number of features')"
   ]
  },
  {
   "cell_type": "code",
   "execution_count": null,
   "metadata": {},
   "outputs": [],
   "source": [
    "Features_reduced = pd.DataFrame(Features_reduced)"
   ]
  },
  {
   "cell_type": "markdown",
   "metadata": {},
   "source": [
    "# Modeling"
   ]
  },
  {
   "cell_type": "code",
   "execution_count": null,
   "metadata": {},
   "outputs": [],
   "source": [
    "#modeling packages for data\n",
    "from sklearn.preprocessing import StandardScaler\n",
    "from sklearn.model_selection import cross_val_score\n",
    "from sklearn.model_selection import train_test_split\n",
    "\n",
    "#models\n",
    "from sklearn.linear_model import LinearRegression\n",
    "from sklearn.tree import DecisionTreeRegressor\n",
    "from sklearn.ensemble import RandomForestRegressor\n",
    "from sklearn.ensemble import GradientBoostingRegressor\n",
    "from sklearn.linear_model import ElasticNet\n",
    "from sklearn.linear_model import Lasso\n",
    "import lightgbm as lgb\n",
    "\n",
    "#visualize residuals\n",
    "from yellowbrick.regressor import ResidualsPlot"
   ]
  },
  {
   "cell_type": "code",
   "execution_count": null,
   "metadata": {},
   "outputs": [],
   "source": [
    "#dropping nominal row id feature, its completely unnecessary\n",
    "data.drop('row_id', axis = 1, inplace = True)"
   ]
  },
  {
   "cell_type": "code",
   "execution_count": null,
   "metadata": {},
   "outputs": [],
   "source": [
    "#dummy code our data\n",
    "data_dummies = pd.get_dummies(data)\n",
    "\n",
    "#split train and test\n",
    "train_data = data_dummies[data_dummies['testflag'] != 1]\n",
    "test_data = data_dummies[data_dummies['testflag'] == 1]\n",
    "\n",
    "# train_data = data[data['testflag'] != 1]\n",
    "# test_data = data[data['testflag'] == 1]\n",
    "\n",
    "#drop target from test\n",
    "test_data.drop('poverty_probability', axis=1, inplace=True)\n",
    "\n",
    "#drop testflag from data\n",
    "test_data.drop('testflag', axis=1, inplace=True)\n",
    "train_data.drop('testflag', axis=1, inplace=True)"
   ]
  },
  {
   "cell_type": "code",
   "execution_count": null,
   "metadata": {},
   "outputs": [],
   "source": [
    "#specify our features and target\n",
    "\n",
    "features = train_data.drop('poverty_probability', axis = 1)\n",
    "labels = train_data['poverty_probability']\n",
    "\n",
    "# #Label Encoding\n",
    "# for x in features.columns[features.dtypes == 'object']:\n",
    "#     features[x] = features[x].factorize()[0]\n",
    "\n",
    "#scale features (if this changes our outcome, which it really doesn't)\n",
    "# scaler = StandardScaler()\n",
    "# scaled_features = scaler.fit_transform(features)\n",
    "\n",
    "#split training data into train and test set for validation\n",
    "X_train, X_test, y_train, y_test = train_test_split(features, labels, test_size = .2, random_state = 45)\n",
    "\n",
    "#scoring function for regression\n",
    "def get_score(model):\n",
    "        '''\n",
    "        Fits the model and returns a series containing the RMSE, MAE, and R^2\n",
    "        '''\n",
    "        from sklearn.metrics import mean_squared_error, mean_absolute_error\n",
    "        import time\n",
    "\n",
    "        startTime = time.time()  # Getting training time\n",
    "        \n",
    "        # Fits with training set\n",
    "        model.fit(X_train, y_train)\n",
    "        totalTime = time.time() - startTime\n",
    "        predictions = model.predict(X_test)\n",
    "        \n",
    "        r2 = model.score(X_test, y_test)\n",
    "        rmse = np.sqrt(mean_squared_error(y_test, predictions))\n",
    "        mae = mean_absolute_error(y_test, predictions)\n",
    "            \n",
    "        score_results = pd.Series([r2, rmse, mae, totalTime], index=['R^2', 'RMSE', 'MAE', 'TrainingTime(sec)'])\n",
    "        \n",
    "        return score_results"
   ]
  },
  {
   "cell_type": "markdown",
   "metadata": {},
   "source": [
    "# Linear Regression"
   ]
  },
  {
   "cell_type": "code",
   "execution_count": null,
   "metadata": {},
   "outputs": [],
   "source": [
    "lm = LinearRegression()\n",
    "lmScore = get_score(lm)\n",
    "lmScore"
   ]
  },
  {
   "cell_type": "code",
   "execution_count": null,
   "metadata": {},
   "outputs": [],
   "source": [
    "visualizer = ResidualsPlot(lm)\n",
    "\n",
    "visualizer.fit(X_train, y_train)  # Fit the training data to the model\n",
    "visualizer.score(X_test, y_test)  # Evaluate the model on the test data\n",
    "visualizer.poof()                 # Draw/show/poof the data"
   ]
  },
  {
   "cell_type": "markdown",
   "metadata": {},
   "source": [
    "# Gradient Boosting\n",
    "- really similar to LightGBM, but just wanted to see if they look at feature importances the same"
   ]
  },
  {
   "cell_type": "code",
   "execution_count": null,
   "metadata": {},
   "outputs": [],
   "source": [
    "gbt = GradientBoostingRegressor(n_estimators=1000, learning_rate=0.01, max_depth=3, random_state=1)\n",
    "gbtScore = get_score(gbt)\n",
    "gbtScore"
   ]
  },
  {
   "cell_type": "code",
   "execution_count": null,
   "metadata": {},
   "outputs": [],
   "source": [
    "visualizer = ResidualsPlot(gbt)\n",
    "\n",
    "visualizer.fit(X_train, y_train)  # Fit the training data to the model\n",
    "visualizer.score(X_test, y_test)  # Evaluate the model on the test data\n",
    "visualizer.poof()                 # Draw/show/poof the data"
   ]
  },
  {
   "cell_type": "code",
   "execution_count": null,
   "metadata": {},
   "outputs": [],
   "source": [
    "feature_importances = pd.Series(gbt.feature_importances_, index=features.columns)\n",
    "feature_importances.nlargest(20).plot(kind='barh')"
   ]
  },
  {
   "cell_type": "markdown",
   "metadata": {},
   "source": [
    "# LightGBM"
   ]
  },
  {
   "cell_type": "code",
   "execution_count": null,
   "metadata": {},
   "outputs": [],
   "source": [
    "model_lgb = lgb.LGBMRegressor(objective='regression',num_leaves=5,\n",
    "                              learning_rate=0.05, n_estimators=1000,\n",
    "                              max_bin = 55, bagging_fraction = 0.8,\n",
    "                              bagging_freq = 5, feature_fraction = 0.2319,\n",
    "                              feature_fraction_seed=9, bagging_seed=9,\n",
    "                              min_data_in_leaf =6, min_sum_hessian_in_leaf = 11)\n",
    "mlgbScore = get_score(model_lgb)\n",
    "mlgbScore"
   ]
  },
  {
   "cell_type": "code",
   "execution_count": null,
   "metadata": {},
   "outputs": [],
   "source": [
    "visualizer = ResidualsPlot(model_lgb)\n",
    "\n",
    "visualizer.fit(X_train, y_train)  # Fit the training data to the model\n",
    "visualizer.score(X_test, y_test)  # Evaluate the model on the test data\n",
    "visualizer.poof()                 # Draw/show/poof the data"
   ]
  },
  {
   "cell_type": "code",
   "execution_count": null,
   "metadata": {},
   "outputs": [],
   "source": [
    "feature_importances = pd.Series(model_lgb.feature_importances_, index=features.columns)\n",
    "feature_importances.nlargest(20).plot(kind='barh')"
   ]
  },
  {
   "cell_type": "markdown",
   "metadata": {},
   "source": [
    "# Random Forest"
   ]
  },
  {
   "cell_type": "code",
   "execution_count": null,
   "metadata": {},
   "outputs": [],
   "source": [
    "rf = RandomForestRegressor(n_estimators=1000, max_depth=None, n_jobs=-1, random_state=2)\n",
    "rfScore = get_score(rf)\n",
    "rfScore"
   ]
  },
  {
   "cell_type": "code",
   "execution_count": null,
   "metadata": {},
   "outputs": [],
   "source": [
    "visualizer = ResidualsPlot(rf)\n",
    "\n",
    "visualizer.fit(X_train, y_train)  # Fit the training data to the model\n",
    "visualizer.score(X_test, y_test)  # Evaluate the model on the test data\n",
    "visualizer.poof()                 # Draw/show/poof the data"
   ]
  },
  {
   "cell_type": "markdown",
   "metadata": {},
   "source": [
    "__Interesting to see the differences between feature importances in GradientBoosting, LightGBM, and RandomForest__"
   ]
  },
  {
   "cell_type": "code",
   "execution_count": null,
   "metadata": {
    "scrolled": false
   },
   "outputs": [],
   "source": [
    "feature_importances = pd.Series(rf.feature_importances_, index=features.columns)\n",
    "feature_importances.nlargest(20).plot(kind='barh')"
   ]
  },
  {
   "cell_type": "markdown",
   "metadata": {},
   "source": [
    "# Ensembling \n",
    "\n",
    "__NOTE: Our scoring metric for this competition is R2, and a \"good\" R2 for the final predictions score is anything above .41, the leader sits at .43, and my model is \n",
    "scoring at .4423 on the training set__\n",
    "- increasing our train-test-split to 80/20 brought the score up a lot"
   ]
  },
  {
   "cell_type": "code",
   "execution_count": null,
   "metadata": {},
   "outputs": [],
   "source": [
    "stacked_pred = (rf.predict(X_test) + model_lgb.predict(X_test) + model_lgb.predict(X_test) + model_lgb.predict(X_test) + rf.predict(X_test) + \n",
    "               model_lgb.predict(X_test) + rf.predict(X_test) + rf.predict(X_test) + model_lgb.predict(X_test) + model_lgb.predict(X_test))/10\n",
    "\n",
    "from sklearn.metrics import mean_squared_error, mean_absolute_error\n",
    "from sklearn.metrics import r2_score\n",
    "r2_score(y_test, stacked_pred)\n",
    "mean_absolute_error(y_test, stacked_pred)\n",
    "np.sqrt(mean_squared_error(y_test, stacked_pred))"
   ]
  },
  {
   "cell_type": "code",
   "execution_count": null,
   "metadata": {},
   "outputs": [],
   "source": [
    "final_pred = (rf.predict(test_data) + model_lgb.predict(test_data) + model_lgb.predict(test_data) + model_lgb.predict(test_data) + rf.predict(test_data) + \n",
    "               model_lgb.predict(test_data) + rf.predict(test_data) + rf.predict(test_data) + model_lgb.predict(test_data) + model_lgb.predict(test_data))/10"
   ]
  },
  {
   "cell_type": "code",
   "execution_count": null,
   "metadata": {},
   "outputs": [],
   "source": [
    "submissions_df = pd.DataFrame(final_pred)\n",
    "submissions_df.to_csv('final_stacked_submissions.csv')"
   ]
  },
  {
   "cell_type": "code",
   "execution_count": null,
   "metadata": {},
   "outputs": [],
   "source": [
    "submissions_df.shape"
   ]
  },
  {
   "cell_type": "markdown",
   "metadata": {},
   "source": [
    "# K-Fold Cross Validation\n",
    "Cross-validation\n",
    "\n",
    "Cross-validation is conceptually running a bunch of test/train split evaluations and taking the average of those results.\n",
    "The key difference is that cross-validation is done systemically to ensure the test/train split evaluations aren't run on the same data.\n",
    "\n",
    "Steps for K-fold cross-validation:\n",
    "1. Split the dataset into K equal partitions (or \"folds\").\n",
    "2. Use fold 1 as the testing set and the union of the other folds as the training set.\n",
    "3. Calculate testing accuracy.\n",
    "4. Repeat steps 2 and 3 K times, using a different fold as the testing set each time.\n",
    "5. Use the average testing accuracy as the estimate of out-of-sample accuracy."
   ]
  },
  {
   "cell_type": "code",
   "execution_count": null,
   "metadata": {},
   "outputs": [],
   "source": [
    "import numpy.random as nr\n",
    "from sklearn.model_selection import cross_val_score \n",
    "import sklearn.model_selection as ms"
   ]
  },
  {
   "cell_type": "code",
   "execution_count": null,
   "metadata": {},
   "outputs": [],
   "source": [
    "model_lgb.fit(features, labels)\n",
    "cv_estimate_lgb = ms.cross_val_score(model_lgb, features, labels, cv = 10)\n",
    "print('Mean R^2 = %4.3f' % np.mean(cv_estimate))\n",
    "print('SDT of R^2       = %4.3f' % np.std(cv_estimate))\n",
    "print('R^2 by cv fold')\n",
    "for i, x in enumerate(cv_estimate):\n",
    "    print('Fold %2d    %4.3f' % (i+1, x))"
   ]
  },
  {
   "cell_type": "code",
   "execution_count": null,
   "metadata": {},
   "outputs": [],
   "source": [
    "xgb.fit(features, labels)\n",
    "cv_estimate_xgb = ms.cross_val_score(xgb, features, labels, cv = 10)\n",
    "print('Mean R^2 = %4.3f' % np.mean(cv_estimate_xgb))\n",
    "print('SDT of R^2       = %4.3f' % np.std(cv_estimate_xgb))\n",
    "print('R^2 by cv fold')\n",
    "for i, x in enumerate(cv_estimate_xgb):\n",
    "    print('Fold %2d    %4.3f' % (i+1, x))"
   ]
  },
  {
   "cell_type": "code",
   "execution_count": null,
   "metadata": {},
   "outputs": [],
   "source": [
    "rf.fit(features, labels)\n",
    "cv_estimate_rf = ms.cross_val_score(rf, features, labels, cv = 10)\n",
    "print('Mean R^2 = %4.3f' % np.mean(cv_estimate_rf))\n",
    "print('SDT of R^2       = %4.3f' % np.std(cv_estimate_rf))\n",
    "print('R^2 by cv fold')\n",
    "for i, x in enumerate(cv_estimate_rf):\n",
    "    print('Fold %2d    %4.3f' % (i+1, x))"
   ]
  },
  {
   "cell_type": "code",
   "execution_count": null,
   "metadata": {},
   "outputs": [],
   "source": [
    "gbt.fit(features, labels)\n",
    "cv_estimate_gbt = ms.cross_val_score(gbt, features, labels, cv = 5)\n",
    "print('Mean R^2 = %4.3f' % np.mean(cv_estimate_gbt))\n",
    "print('SDT of R^2       = %4.3f' % np.std(cv_estimate_gbt))\n",
    "print('R^2 by cv fold')\n",
    "for i, x in enumerate(cv_estimate_gbt):\n",
    "    print('Fold %2d    %4.3f' % (i+1, x))"
   ]
  },
  {
   "cell_type": "markdown",
   "metadata": {},
   "source": [
    "# Nested Cross-Validation\n",
    "- First, I want to tune the LightGBM model for n_estimators (I might tune for other hyperparameters later depending on this model's score)\n",
    "    - This improved our score by .50!\n",
    "- Second, I am going to tune the Random Forest for max_features and min_samples_leaf"
   ]
  },
  {
   "cell_type": "markdown",
   "metadata": {},
   "source": [
    "__LightGBM Hyperparameter Optimization__"
   ]
  },
  {
   "cell_type": "code",
   "execution_count": null,
   "metadata": {},
   "outputs": [],
   "source": [
    "import numpy.random as nr\n",
    "from sklearn.model_selection import cross_val_score\n",
    "import sklearn.model_selection as model_selection\n",
    "# this defines the inner cross-validation\n",
    "nr.seed(123)\n",
    "inside = model_selection.KFold(n_splits=10, shuffle = True)\n",
    "\n",
    "#this defines outer cross-validation\n",
    "nr.seed(321)\n",
    "outside = model_selection.KFold(n_splits=10, shuffle = True)\n",
    "\n",
    "\n",
    "## Define the dictionary for the grid search and the model object to search on\n",
    "param_grid = {\"n_estimators\": list(range(100, 4000, 10))}\n",
    "\n",
    "## Perform the grid search over the parameters\n",
    "nr.seed(4455)\n",
    "tuned_lgb = model_selection.RandomizedSearchCV(estimator = model_lgb, param_distributions = param_grid, \n",
    "                      cv = inside, # Use the inside folds\n",
    "                      scoring = 'r2',\n",
    "                      return_train_score = True)\n",
    "\n",
    "tuned_lgb.fit(features, labels)\n",
    "print(tuned_lgb.best_estimator_.n_estimators)"
   ]
  },
  {
   "cell_type": "code",
   "execution_count": null,
   "metadata": {},
   "outputs": [],
   "source": [
    "print(tuned_lgb.best_estimator_.n_estimators)"
   ]
  },
  {
   "cell_type": "code",
   "execution_count": null,
   "metadata": {},
   "outputs": [],
   "source": [
    "nr.seed(498)\n",
    "cv_estimate = model_selection.cross_val_score(tuned_lgb, features, labels, \n",
    "                                 cv = outside) # Use the outside folds\n",
    "\n",
    "print('Mean R^2 = %4.3f' % np.mean(cv_estimate))\n",
    "print('SDT of R^2       = %4.3f' % np.std(cv_estimate))\n",
    "print('R^2 by cv fold')\n",
    "for i, x in enumerate(cv_estimate):\n",
    "    print('Fold %2d    %4.3f' % (i+1, x))"
   ]
  },
  {
   "cell_type": "markdown",
   "metadata": {},
   "source": [
    "__Second go at LightGBM__\n",
    "- I am going to tune the max_depth and learning_rate to see if there is any change as well\n",
    "    - a little better performance"
   ]
  },
  {
   "cell_type": "code",
   "execution_count": 98,
   "metadata": {},
   "outputs": [
    {
     "ename": "NameError",
     "evalue": "name 'model_lgb' is not defined",
     "output_type": "error",
     "traceback": [
      "\u001b[1;31m---------------------------------------------------------------------------\u001b[0m",
      "\u001b[1;31mNameError\u001b[0m                                 Traceback (most recent call last)",
      "\u001b[1;32m<ipython-input-98-7911a5d020b2>\u001b[0m in \u001b[0;36m<module>\u001b[1;34m\u001b[0m\n\u001b[0;32m     16\u001b[0m \u001b[1;31m## Perform the grid search over the parameters\u001b[0m\u001b[1;33m\u001b[0m\u001b[1;33m\u001b[0m\u001b[1;33m\u001b[0m\u001b[0m\n\u001b[0;32m     17\u001b[0m \u001b[0mnr\u001b[0m\u001b[1;33m.\u001b[0m\u001b[0mseed\u001b[0m\u001b[1;33m(\u001b[0m\u001b[1;36m4465\u001b[0m\u001b[1;33m)\u001b[0m\u001b[1;33m\u001b[0m\u001b[1;33m\u001b[0m\u001b[0m\n\u001b[1;32m---> 18\u001b[1;33m tuned_lgb_2 = model_selection.RandomizedSearchCV(estimator = model_lgb, param_distributions = param_grid, \n\u001b[0m\u001b[0;32m     19\u001b[0m                       \u001b[0mcv\u001b[0m \u001b[1;33m=\u001b[0m \u001b[0minside\u001b[0m\u001b[1;33m,\u001b[0m \u001b[1;31m# Use the inside folds\u001b[0m\u001b[1;33m\u001b[0m\u001b[1;33m\u001b[0m\u001b[0m\n\u001b[0;32m     20\u001b[0m                       \u001b[0mscoring\u001b[0m \u001b[1;33m=\u001b[0m \u001b[1;34m'r2'\u001b[0m\u001b[1;33m,\u001b[0m\u001b[1;33m\u001b[0m\u001b[1;33m\u001b[0m\u001b[0m\n",
      "\u001b[1;31mNameError\u001b[0m: name 'model_lgb' is not defined"
     ]
    }
   ],
   "source": [
    "import numpy.random as nr\n",
    "from sklearn.model_selection import cross_val_score\n",
    "import sklearn.model_selection as model_selection\n",
    "# this defines the inner cross-validation\n",
    "nr.seed(1234)\n",
    "inside = model_selection.KFold(n_splits=10, shuffle = True)\n",
    "\n",
    "#this defines outer cross-validation\n",
    "nr.seed(4321)\n",
    "outside = model_selection.KFold(n_splits=10, shuffle = True)\n",
    "\n",
    "\n",
    "## Define the dictionary for the grid search and the model object to search on\n",
    "param_grid = {\"n_estimators\": list(range(100, 4000, 10)), 'max_depth':list(range(-1, 100, 1)), 'learning_rate': (.01, .05, .10, .50, .60, .70, .80, .90, 1)}\n",
    "\n",
    "## Perform the grid search over the parameters\n",
    "nr.seed(4465)\n",
    "tuned_lgb_2 = model_selection.RandomizedSearchCV(estimator = model_lgb, param_distributions = param_grid, \n",
    "                      cv = inside, # Use the inside folds\n",
    "                      scoring = 'r2',\n",
    "                      return_train_score = True)\n",
    "\n",
    "tuned_lgb_2.fit(features, labels)\n",
    "print(tuned_lgb_2.best_estimator_.n_estimators)\n",
    "print(tuned_lgb_2.best_estimator_.max_depth)\n",
    "print(tuned_lgb_2.best_estimator_.learning_rate)"
   ]
  },
  {
   "cell_type": "code",
   "execution_count": null,
   "metadata": {},
   "outputs": [],
   "source": [
    "nr.seed(478)\n",
    "cv_estimate_lgb_2 = model_selection.cross_val_score(tuned_lgb_2, features, labels, \n",
    "                                 cv = outside) # Use the outside folds\n",
    "\n",
    "print('Mean R^2 = %4.3f' % np.mean(cv_estimate_lgb_2))\n",
    "print('SDT of R^2       = %4.3f' % np.std(cv_estimate_lgb_2))\n",
    "print('R^2 by cv fold')\n",
    "for i, x in enumerate(cv_estimate_lgb_2):\n",
    "    print('Fold %2d    %4.3f' % (i+1, x))"
   ]
  },
  {
   "cell_type": "markdown",
   "metadata": {},
   "source": [
    "__Random Forest Hyperparamter Optimization__"
   ]
  },
  {
   "cell_type": "code",
   "execution_count": null,
   "metadata": {},
   "outputs": [],
   "source": [
    "import numpy.random as nr\n",
    "from sklearn.model_selection import cross_val_score\n",
    "import sklearn.model_selection as model_selection\n",
    "# this defines the inner cross-validation\n",
    "nr.seed(1234)\n",
    "inside2 = model_selection.KFold(n_splits=10, shuffle = True)\n",
    "\n",
    "#this defines outer cross-validation\n",
    "nr.seed(3221)\n",
    "outside2 = model_selection.KFold(n_splits=10, shuffle = True)\n",
    "\n",
    "\n",
    "## Define the dictionary for the grid search and the model object to search on\n",
    "param_grid = {\"max_features\": list(range(1, 90, 1)), \"n_estimators\":list(range(100, 4000, 10)), \"min_samples_leaf\":list(range(1, 5, 1))}\n",
    "\n",
    "## Perform the grid search over the parameters\n",
    "nr.seed(4455)\n",
    "tuned_rf = model_selection.RandomizedSearchCV(estimator = rf, param_distributions = param_grid, \n",
    "                      cv = inside2, # Use the inside folds\n",
    "                      scoring = 'r2',\n",
    "                      return_train_score = True)\n",
    "\n",
    "tuned_rf.fit(features, labels)\n",
    "print(tuned_rf.best_estimator_.max_features)\n",
    "print(tuned_rf.best_estimator_.n_estimators)\n",
    "print(tuned_rf.best_estimator_.min_samples_leaf)"
   ]
  },
  {
   "cell_type": "code",
   "execution_count": null,
   "metadata": {},
   "outputs": [],
   "source": [
    "nr.seed(4984)\n",
    "cv_estimate_tuned_rf = model_selection.cross_val_score(tuned_rf, features, labels, \n",
    "                                 cv = outside2) # Use the outside folds\n",
    "\n",
    "print('Mean R^2 = %4.3f' % np.mean(cv_estimate_tuned_rf))\n",
    "print('SDT of R^2       = %4.3f' % np.std(cv_estimate_tuned_rf))\n",
    "print('R^2 by cv fold')\n",
    "for i, x in enumerate(cv_estimate_tuned_rf):\n",
    "    print('Fold %2d    %4.3f' % (i+1, x))"
   ]
  },
  {
   "cell_type": "markdown",
   "metadata": {},
   "source": [
    "__Now I am going to add the tuned models together for final predictions, I could also add in the other cross-validated models, but the submission limit on DrivenData is 3 per day, so I don't have a ton of opportunities to test out combinations of models that have been fit on the entire data set__"
   ]
  },
  {
   "cell_type": "code",
   "execution_count": null,
   "metadata": {},
   "outputs": [],
   "source": [
    "stacked_pred_cv = (tuned_rf.predict(test_data) + tuned_lgb_2.predict(test_data))/2"
   ]
  },
  {
   "cell_type": "code",
   "execution_count": null,
   "metadata": {},
   "outputs": [],
   "source": [
    "stacked_pred_cv = pd.DataFrame(stacked_pred_cv)\n",
    "stacked_pred_cv.to_csv('cv_predictions.csv')"
   ]
  },
  {
   "cell_type": "markdown",
   "metadata": {},
   "source": [
    "# Word to the wise: Hyperparameter tuning is extremely helpful to model performance, in addition to giving a better idea of model generalization to new data\n",
    "- my LightGBM and Random Forest performed significantly better after tuning a couple of hyperparameters"
   ]
  },
  {
   "cell_type": "markdown",
   "metadata": {},
   "source": [
    "__Throwing a classic 'fizzbuzz' challenge in for s and g's__"
   ]
  },
  {
   "cell_type": "code",
   "execution_count": null,
   "metadata": {},
   "outputs": [],
   "source": [
    "for x in list(range(1, 101)):\n",
    "    if x % 2 == 0:\n",
    "        print('fizz')\n",
    "    else:\n",
    "        print('buzz')"
   ]
  },
  {
   "cell_type": "code",
   "execution_count": null,
   "metadata": {},
   "outputs": [],
   "source": []
  },
  {
   "cell_type": "code",
   "execution_count": null,
   "metadata": {},
   "outputs": [],
   "source": []
  },
  {
   "cell_type": "code",
   "execution_count": null,
   "metadata": {},
   "outputs": [],
   "source": []
  },
  {
   "cell_type": "code",
   "execution_count": null,
   "metadata": {},
   "outputs": [],
   "source": []
  },
  {
   "cell_type": "code",
   "execution_count": null,
   "metadata": {},
   "outputs": [],
   "source": []
  },
  {
   "cell_type": "code",
   "execution_count": null,
   "metadata": {},
   "outputs": [],
   "source": []
  },
  {
   "cell_type": "code",
   "execution_count": null,
   "metadata": {},
   "outputs": [],
   "source": []
  },
  {
   "cell_type": "code",
   "execution_count": null,
   "metadata": {},
   "outputs": [],
   "source": []
  },
  {
   "cell_type": "code",
   "execution_count": null,
   "metadata": {},
   "outputs": [],
   "source": []
  },
  {
   "cell_type": "code",
   "execution_count": null,
   "metadata": {},
   "outputs": [],
   "source": []
  },
  {
   "cell_type": "code",
   "execution_count": null,
   "metadata": {},
   "outputs": [],
   "source": []
  },
  {
   "cell_type": "code",
   "execution_count": null,
   "metadata": {},
   "outputs": [],
   "source": []
  },
  {
   "cell_type": "code",
   "execution_count": null,
   "metadata": {},
   "outputs": [],
   "source": []
  },
  {
   "cell_type": "code",
   "execution_count": null,
   "metadata": {},
   "outputs": [],
   "source": []
  },
  {
   "cell_type": "code",
   "execution_count": null,
   "metadata": {},
   "outputs": [],
   "source": []
  },
  {
   "cell_type": "code",
   "execution_count": null,
   "metadata": {},
   "outputs": [],
   "source": []
  },
  {
   "cell_type": "code",
   "execution_count": null,
   "metadata": {},
   "outputs": [],
   "source": []
  },
  {
   "cell_type": "code",
   "execution_count": null,
   "metadata": {},
   "outputs": [],
   "source": []
  },
  {
   "cell_type": "code",
   "execution_count": null,
   "metadata": {},
   "outputs": [],
   "source": []
  },
  {
   "cell_type": "code",
   "execution_count": null,
   "metadata": {},
   "outputs": [],
   "source": []
  },
  {
   "cell_type": "code",
   "execution_count": null,
   "metadata": {},
   "outputs": [],
   "source": []
  },
  {
   "cell_type": "code",
   "execution_count": null,
   "metadata": {},
   "outputs": [],
   "source": []
  },
  {
   "cell_type": "code",
   "execution_count": null,
   "metadata": {},
   "outputs": [],
   "source": []
  },
  {
   "cell_type": "code",
   "execution_count": null,
   "metadata": {},
   "outputs": [],
   "source": []
  },
  {
   "cell_type": "code",
   "execution_count": null,
   "metadata": {},
   "outputs": [],
   "source": []
  },
  {
   "cell_type": "code",
   "execution_count": null,
   "metadata": {},
   "outputs": [],
   "source": []
  },
  {
   "cell_type": "code",
   "execution_count": null,
   "metadata": {},
   "outputs": [],
   "source": []
  },
  {
   "cell_type": "code",
   "execution_count": null,
   "metadata": {},
   "outputs": [],
   "source": []
  },
  {
   "cell_type": "code",
   "execution_count": null,
   "metadata": {},
   "outputs": [],
   "source": []
  },
  {
   "cell_type": "code",
   "execution_count": null,
   "metadata": {},
   "outputs": [],
   "source": [
    "\n"
   ]
  }
 ],
 "metadata": {
  "kernelspec": {
   "display_name": "Python 3",
   "language": "python",
   "name": "python3"
  },
  "language_info": {
   "codemirror_mode": {
    "name": "ipython",
    "version": 3
   },
   "file_extension": ".py",
   "mimetype": "text/x-python",
   "name": "python",
   "nbconvert_exporter": "python",
   "pygments_lexer": "ipython3",
   "version": "3.7.3"
  }
 },
 "nbformat": 4,
 "nbformat_minor": 2
}
