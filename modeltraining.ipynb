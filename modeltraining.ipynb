{
 "cells": [
  {
   "cell_type": "code",
   "execution_count": 3,
   "metadata": {},
   "outputs": [],
   "source": [
    "import pandas as pd\n",
    "import numpy as np\n",
    "import matplotlib.pyplot as plt\n",
    "from sklearn.model_selection import train_test_split\n",
    "from sklearn.linear_model import LinearRegression\n",
    "from sklearn.metrics import mean_squared_error, r2_score\n",
    "import statsmodels.api as sm\n",
    "\n"
   ]
  },
  {
   "cell_type": "code",
   "execution_count": 4,
   "metadata": {},
   "outputs": [],
   "source": [
    "x = pd.read_csv('train_labels.csv',index_col = 0)\n",
    "data = pd.read_csv('train_values_wJZrCmI.csv',index_col = 0)\n",
    "data = data.merge(x,on='row_id')\n",
    " "
   ]
  },
  {
   "cell_type": "code",
   "execution_count": 6,
   "metadata": {},
   "outputs": [
    {
     "data": {
      "text/plain": [
       "1.0    8057\n",
       "0.0    4347\n",
       "Name: poverty_prob, dtype: int64"
      ]
     },
     "execution_count": 6,
     "metadata": {},
     "output_type": "execute_result"
    }
   ],
   "source": [
    "data = data[data.poverty_probability != 1]\n",
    "data = data[data.poverty_probability != 0]\n",
    "data.loc[(data.poverty_probability < 0.5),'poverty_prob'] = 0\n",
    "data.loc[(data.poverty_probability > 0.5),'poverty_prob'] = 1\n",
    "data['poverty_prob'].value_counts()"
   ]
  },
  {
   "cell_type": "code",
   "execution_count": 8,
   "metadata": {},
   "outputs": [],
   "source": [
    "country = pd.get_dummies(data.country,drop_first = True).add_prefix('country')\n",
    "education_level = pd.get_dummies(data.education_level,drop_first=True).add_prefix('education_level')\n",
    "religion = pd.get_dummies(data.religion,drop_first=True).add_prefix('religion')\n",
    "relationship_to_hh_head = pd.get_dummies(data.relationship_to_hh_head,drop_first=True).add_prefix('hh_head')\n",
    "employment_category_last_year = pd.get_dummies(data.employment_category_last_year,drop_first=True).add_prefix('employment_category')\n",
    "employment_type_last_year = pd.get_dummies(data.employment_type_last_year,drop_first=True).add_prefix('employment_type')\n",
    "share_hh_income_provided = pd.get_dummies(data.share_hh_income_provided,drop_first=True).add_prefix('share_hh_income')\n",
    "phone_ownership = pd.get_dummies(data.phone_ownership,drop_first=True).add_prefix('phone_ownership')\n",
    "phone_technology = pd.get_dummies(data.phone_technology,drop_first=True).add_prefix('phone_technology')\n",
    "num_formal_institutions_last_year = pd.get_dummies(data.num_formal_institutions_last_year,drop_first=True).add_prefix('num_formal_instutitions')\n",
    "num_financial_activities_last_year = pd.get_dummies(data.num_financial_activities_last_year,drop_first=True).add_prefix('num_financial_activities')\n",
    "                                                                                                  "
   ]
  },
  {
   "cell_type": "code",
   "execution_count": 9,
   "metadata": {},
   "outputs": [],
   "source": [
    "testdata = pd.concat([data,country,religion,education_level,relationship_to_hh_head,employment_category_last_year,employment_type_last_year,share_hh_income_provided,phone_ownership,phone_technology,num_formal_institutions_last_year,num_financial_activities_last_year],axis=1)\n"
   ]
  },
  {
   "cell_type": "code",
   "execution_count": null,
   "metadata": {},
   "outputs": [],
   "source": []
  }
 ],
 "metadata": {
  "kernelspec": {
   "display_name": "Python 3",
   "language": "python",
   "name": "python3"
  },
  "language_info": {
   "codemirror_mode": {
    "name": "ipython",
    "version": 3
   },
   "file_extension": ".py",
   "mimetype": "text/x-python",
   "name": "python",
   "nbconvert_exporter": "python",
   "pygments_lexer": "ipython3",
   "version": "3.7.3"
  }
 },
 "nbformat": 4,
 "nbformat_minor": 2
}
